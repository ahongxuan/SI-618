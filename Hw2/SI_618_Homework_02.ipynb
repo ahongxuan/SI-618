{
 "cells": [
  {
   "cell_type": "markdown",
   "metadata": {
    "tags": []
   },
   "source": [
    "# SI 618 - Homework #2: More Data Manipulation"
   ]
  },
  {
   "cell_type": "markdown",
   "metadata": {},
   "source": [
    "### The total score for this assignment will be 100 points, consisting of:\n",
    "- 10 pt: Overall quality of spelling, grammar, punctuation, etc. of written sentences. ([Guide](https://drive.google.com/file/d/1L0P7xJwjUGBvyb49mL3dw1Bt7hzRTiTl/view ))\n",
    "- 10 pt: Codes are written in [PEP 8](https://www.python.org/dev/peps/pep-0008/) style.\n",
    "- 80 pt: Homework questions. \n",
    "\n",
    "Version 2024.01.23.2.CT"
   ]
  },
  {
   "cell_type": "markdown",
   "metadata": {},
   "source": [
    "# Background\n",
    "You're a Data Science Consultant for an eCommerce retail company, they've asked you to analyze their sales database. Unfortunately, they did nothing to prepare or clean their data, only exporting their 3 database tables as JSON files. It's up to you to clean their data, analyze it and answer questions to help drive business value!\n",
    "\n",
    "### The below files have been provided via the URLs shown:\n",
    "- invoices.json https://github.com/umsi-data-science/data/raw/main/invoices.json\n",
    "- items.json https://github.com/umsi-data-science/data/raw/main/items.json\n",
    "- purchases.json https://github.com/umsi-data-science/data/raw/main/purchases.json\n",
    "\n",
    "### They provided this data dictionary:\n",
    "\n",
    "**InvoiceNo:** Invoice number. Nominal, a 6-digit integral number uniquely assigned to each transaction.  \n",
    "**StockCode:** Product (item) code. Nominal, a 5-digit integral number uniquely assigned to each distinct product.  \n",
    "**Description:** Product (item) name. Nominal.   \n",
    "**Quantity:** The quantities of each product (item) per transaction. Numeric.  \n",
    "**InvoiceDate:** Invoice Date and time. Numeric, the day and time when each transaction was generated.  \n",
    "**UnitPrice:** Unit price. Numeric, Product price per unit in sterling.  \n",
    "**CustomerID:** Customer number. Nominal, a 5-digit integral number uniquely assigned to each customer.  \n",
    "**Country:** Country name. Nominal, the name of the country where each customer resides.  \n",
    "\n",
    "### A few notes from the company:\n",
    "* If the InvoiceNo starts with the letter 'c', it indicates a cancellation. When conducting this analysis we only want to analyze invoices that were shipped. (ie. not canceled)\n",
    "* The datasets should be able to be merged, each row in the invoice table corresponds to multiple rows in the purchases table.\n",
    "* To find out the description or unit cost of an item in the purchase table, the StockCode should be used to match up the product in the items table. \n",
    "* They mentioned that they've been having a difficult time lately joining the items and purchases table, maybe there's something wrong with the columns?"
   ]
  },
  {
   "cell_type": "code",
   "execution_count": 68,
   "metadata": {},
   "outputs": [],
   "source": [
    "import numpy as np\n",
    "import pandas as pd\n",
    "import matplotlib.pyplot as plt"
   ]
  },
  {
   "cell_type": "markdown",
   "metadata": {},
   "source": [
    "# Answer the questions below.\n",
    "- write your Python code that can answer the following questions \n",
    "- explain **ALL** your answers in plain English. \n",
    "- you can use as many code and markdown cells as you need for each question (i.e. don't limit yourself to just one of each if you feel you need more)."
   ]
  },
  {
   "cell_type": "code",
   "execution_count": 69,
   "metadata": {},
   "outputs": [],
   "source": [
    "MY_UNIQNAME = 'aanaa'  # replace this with your uniqname"
   ]
  },
  {
   "cell_type": "markdown",
   "metadata": {},
   "source": [
    "### <span style=\"color:magenta\"> Q1. [5 points] Describe the dataset. </span>\n",
    "1. Load the data. \n",
    "1. How many total invoices have been placed?\n",
    "1. How many unique customers are there?\n",
    "1. What is the total number of unique items?\n",
    "1. Are there any columns with null values?\n",
    "1. Thinking ahead, how do you think you would join the different tables? Please share 2-3 sentences about your approach."
   ]
  },
  {
   "cell_type": "markdown",
   "metadata": {},
   "source": [
    "### Q1: load the data"
   ]
  },
  {
   "cell_type": "code",
   "execution_count": 70,
   "metadata": {},
   "outputs": [],
   "source": [
    "\n",
    "invoices = pd.read_json('https://github.com/umsi-data-science/data/raw/main/invoices.json')\n",
    "items = pd.read_json(\"https://github.com/umsi-data-science/data/raw/main/items.json\")\n",
    "purchases = pd.read_json('https://github.com/umsi-data-science/data/raw/main/purchases.json')"
   ]
  },
  {
   "cell_type": "code",
   "execution_count": 71,
   "metadata": {},
   "outputs": [
    {
     "data": {
      "text/html": [
       "<div>\n",
       "<style scoped>\n",
       "    .dataframe tbody tr th:only-of-type {\n",
       "        vertical-align: middle;\n",
       "    }\n",
       "\n",
       "    .dataframe tbody tr th {\n",
       "        vertical-align: top;\n",
       "    }\n",
       "\n",
       "    .dataframe thead th {\n",
       "        text-align: right;\n",
       "    }\n",
       "</style>\n",
       "<table border=\"1\" class=\"dataframe\">\n",
       "  <thead>\n",
       "    <tr style=\"text-align: right;\">\n",
       "      <th></th>\n",
       "      <th>InvoiceNo</th>\n",
       "      <th>InvoiceDate</th>\n",
       "      <th>CustomerID</th>\n",
       "      <th>Country</th>\n",
       "    </tr>\n",
       "  </thead>\n",
       "  <tbody>\n",
       "    <tr>\n",
       "      <th>0</th>\n",
       "      <td>536365</td>\n",
       "      <td>12/1/10 8:26</td>\n",
       "      <td>17850.0</td>\n",
       "      <td>United Kingdom</td>\n",
       "    </tr>\n",
       "    <tr>\n",
       "      <th>1</th>\n",
       "      <td>536366</td>\n",
       "      <td>12/1/10 8:28</td>\n",
       "      <td>17850.0</td>\n",
       "      <td>United Kingdom</td>\n",
       "    </tr>\n",
       "    <tr>\n",
       "      <th>2</th>\n",
       "      <td>536367</td>\n",
       "      <td>12/1/10 8:34</td>\n",
       "      <td>13047.0</td>\n",
       "      <td>United Kingdom</td>\n",
       "    </tr>\n",
       "    <tr>\n",
       "      <th>3</th>\n",
       "      <td>536368</td>\n",
       "      <td>12/1/10 8:34</td>\n",
       "      <td>13047.0</td>\n",
       "      <td>United Kingdom</td>\n",
       "    </tr>\n",
       "    <tr>\n",
       "      <th>4</th>\n",
       "      <td>536369</td>\n",
       "      <td>12/1/10 8:35</td>\n",
       "      <td>13047.0</td>\n",
       "      <td>United Kingdom</td>\n",
       "    </tr>\n",
       "  </tbody>\n",
       "</table>\n",
       "</div>"
      ],
      "text/plain": [
       "  InvoiceNo   InvoiceDate  CustomerID         Country\n",
       "0    536365  12/1/10 8:26     17850.0  United Kingdom\n",
       "1    536366  12/1/10 8:28     17850.0  United Kingdom\n",
       "2    536367  12/1/10 8:34     13047.0  United Kingdom\n",
       "3    536368  12/1/10 8:34     13047.0  United Kingdom\n",
       "4    536369  12/1/10 8:35     13047.0  United Kingdom"
      ]
     },
     "execution_count": 71,
     "metadata": {},
     "output_type": "execute_result"
    }
   ],
   "source": [
    "invoices.head()"
   ]
  },
  {
   "cell_type": "code",
   "execution_count": 72,
   "metadata": {},
   "outputs": [
    {
     "data": {
      "text/html": [
       "<div>\n",
       "<style scoped>\n",
       "    .dataframe tbody tr th:only-of-type {\n",
       "        vertical-align: middle;\n",
       "    }\n",
       "\n",
       "    .dataframe tbody tr th {\n",
       "        vertical-align: top;\n",
       "    }\n",
       "\n",
       "    .dataframe thead th {\n",
       "        text-align: right;\n",
       "    }\n",
       "</style>\n",
       "<table border=\"1\" class=\"dataframe\">\n",
       "  <thead>\n",
       "    <tr style=\"text-align: right;\">\n",
       "      <th></th>\n",
       "      <th>StockCode</th>\n",
       "      <th>Description</th>\n",
       "      <th>UnitPrice</th>\n",
       "    </tr>\n",
       "  </thead>\n",
       "  <tbody>\n",
       "    <tr>\n",
       "      <th>0</th>\n",
       "      <td>85123A</td>\n",
       "      <td>WHITE HANGING HEART T-LIGHT HOLDER</td>\n",
       "      <td>2.55</td>\n",
       "    </tr>\n",
       "    <tr>\n",
       "      <th>1</th>\n",
       "      <td>71053</td>\n",
       "      <td>WHITE METAL LANTERN</td>\n",
       "      <td>3.39</td>\n",
       "    </tr>\n",
       "    <tr>\n",
       "      <th>2</th>\n",
       "      <td>84406B</td>\n",
       "      <td>CREAM CUPID HEARTS COAT HANGER</td>\n",
       "      <td>2.75</td>\n",
       "    </tr>\n",
       "    <tr>\n",
       "      <th>3</th>\n",
       "      <td>84029G</td>\n",
       "      <td>KNITTED UNION FLAG HOT WATER BOTTLE</td>\n",
       "      <td>3.39</td>\n",
       "    </tr>\n",
       "    <tr>\n",
       "      <th>4</th>\n",
       "      <td>84029E</td>\n",
       "      <td>RED WOOLLY HOTTIE WHITE HEART.</td>\n",
       "      <td>3.39</td>\n",
       "    </tr>\n",
       "  </tbody>\n",
       "</table>\n",
       "</div>"
      ],
      "text/plain": [
       "  StockCode                          Description  UnitPrice\n",
       "0    85123A   WHITE HANGING HEART T-LIGHT HOLDER       2.55\n",
       "1     71053                  WHITE METAL LANTERN       3.39\n",
       "2    84406B       CREAM CUPID HEARTS COAT HANGER       2.75\n",
       "3    84029G  KNITTED UNION FLAG HOT WATER BOTTLE       3.39\n",
       "4    84029E       RED WOOLLY HOTTIE WHITE HEART.       3.39"
      ]
     },
     "execution_count": 72,
     "metadata": {},
     "output_type": "execute_result"
    }
   ],
   "source": [
    "items.head()"
   ]
  },
  {
   "cell_type": "code",
   "execution_count": 73,
   "metadata": {},
   "outputs": [
    {
     "data": {
      "text/html": [
       "<div>\n",
       "<style scoped>\n",
       "    .dataframe tbody tr th:only-of-type {\n",
       "        vertical-align: middle;\n",
       "    }\n",
       "\n",
       "    .dataframe tbody tr th {\n",
       "        vertical-align: top;\n",
       "    }\n",
       "\n",
       "    .dataframe thead th {\n",
       "        text-align: right;\n",
       "    }\n",
       "</style>\n",
       "<table border=\"1\" class=\"dataframe\">\n",
       "  <thead>\n",
       "    <tr style=\"text-align: right;\">\n",
       "      <th></th>\n",
       "      <th>InvoiceNo</th>\n",
       "      <th>StockCodeSC</th>\n",
       "      <th>Quantity</th>\n",
       "    </tr>\n",
       "  </thead>\n",
       "  <tbody>\n",
       "    <tr>\n",
       "      <th>0</th>\n",
       "      <td>536365</td>\n",
       "      <td>SC85123A</td>\n",
       "      <td>6</td>\n",
       "    </tr>\n",
       "    <tr>\n",
       "      <th>1</th>\n",
       "      <td>536365</td>\n",
       "      <td>SC71053</td>\n",
       "      <td>6</td>\n",
       "    </tr>\n",
       "    <tr>\n",
       "      <th>2</th>\n",
       "      <td>536365</td>\n",
       "      <td>SC84406B</td>\n",
       "      <td>8</td>\n",
       "    </tr>\n",
       "    <tr>\n",
       "      <th>3</th>\n",
       "      <td>536365</td>\n",
       "      <td>SC84029G</td>\n",
       "      <td>6</td>\n",
       "    </tr>\n",
       "    <tr>\n",
       "      <th>4</th>\n",
       "      <td>536365</td>\n",
       "      <td>SC84029E</td>\n",
       "      <td>6</td>\n",
       "    </tr>\n",
       "  </tbody>\n",
       "</table>\n",
       "</div>"
      ],
      "text/plain": [
       "  InvoiceNo StockCodeSC  Quantity\n",
       "0    536365    SC85123A         6\n",
       "1    536365     SC71053         6\n",
       "2    536365    SC84406B         8\n",
       "3    536365    SC84029G         6\n",
       "4    536365    SC84029E         6"
      ]
     },
     "execution_count": 73,
     "metadata": {},
     "output_type": "execute_result"
    }
   ],
   "source": [
    "purchases.head()"
   ]
  },
  {
   "cell_type": "markdown",
   "metadata": {},
   "source": [
    "### Q2: How many total invoices have been placed?"
   ]
  },
  {
   "cell_type": "code",
   "execution_count": 74,
   "metadata": {},
   "outputs": [
    {
     "data": {
      "text/plain": [
       "(22064, 4)"
      ]
     },
     "execution_count": 74,
     "metadata": {},
     "output_type": "execute_result"
    }
   ],
   "source": [
    "# drop invoices that start with C\n",
    "invos_drop = invoices[invoices['InvoiceNo'].str.startswith('C')].index\n",
    "invoices.drop(invos_drop, inplace=True)\n",
    "# drop duplicates\n",
    "invoices_unq = invoices.drop_duplicates(subset=['InvoiceNo'])\n",
    "invoices_unq.shape\n"
   ]
  },
  {
   "cell_type": "code",
   "execution_count": 75,
   "metadata": {},
   "outputs": [
    {
     "name": "stdout",
     "output_type": "stream",
     "text": [
      " There are 22064 invoices have been placed\n"
     ]
    }
   ],
   "source": [
    "print(f' There are {invoices_unq.shape[0]} invoices have been placed')\n"
   ]
  },
  {
   "cell_type": "markdown",
   "metadata": {},
   "source": [
    "### Q3: How many unique customers are there?"
   ]
  },
  {
   "cell_type": "code",
   "execution_count": 76,
   "metadata": {},
   "outputs": [
    {
     "name": "stdout",
     "output_type": "stream",
     "text": [
      " There are 4339 unique cutomers\n"
     ]
    }
   ],
   "source": [
    "u = invoices['CustomerID'].nunique()\n",
    "print(f' There are {u} unique cutomers')"
   ]
  },
  {
   "cell_type": "markdown",
   "metadata": {},
   "source": [
    "### Q4: What is the total number of unique items?"
   ]
  },
  {
   "cell_type": "code",
   "execution_count": 77,
   "metadata": {},
   "outputs": [
    {
     "data": {
      "text/plain": [
       "4070"
      ]
     },
     "execution_count": 77,
     "metadata": {},
     "output_type": "execute_result"
    }
   ],
   "source": [
    "\n",
    "items['StockCode'].nunique()"
   ]
  },
  {
   "cell_type": "markdown",
   "metadata": {},
   "source": [
    "### Q5: Are there any columns with null values?"
   ]
  },
  {
   "cell_type": "code",
   "execution_count": 78,
   "metadata": {},
   "outputs": [
    {
     "name": "stdout",
     "output_type": "stream",
     "text": [
      "InvoiceNo         0\n",
      "InvoiceDate       0\n",
      "CustomerID     3540\n",
      "Country           0\n",
      "dtype: int64\n",
      "StockCode        0\n",
      "Description    176\n",
      "UnitPrice        0\n",
      "dtype: int64\n",
      "InvoiceNo      0\n",
      "StockCodeSC    0\n",
      "Quantity       0\n",
      "dtype: int64\n"
     ]
    }
   ],
   "source": [
    "\n",
    "print(invoices.isnull().sum())\n",
    "print(items.isnull().sum())\n",
    "print(purchases.isnull().sum())"
   ]
  },
  {
   "cell_type": "markdown",
   "metadata": {},
   "source": [
    "The `CustomerID` column in `invoices` contains 3722 missing values\n",
    "\n",
    "The `Description` column in `items` contains 176 missing values"
   ]
  },
  {
   "cell_type": "markdown",
   "metadata": {},
   "source": [
    "### Q6: Thinking ahead, how do you think you would join the different tables? Please share 2-3 sentences about your approach.\n",
    "\n",
    "1. First delete the records starting with C for 'InvoiceNo'.\n",
    "2. The invoice table can be merged with the purchase table using the 'invoiceNo' attibutes.\n",
    "3. The items table can be merged with the purchase table using the 'StockCode' attibutes(for the purchase table, the column 'StockCodeSC' needs to be modified: delete each one starting with 'SC')\n"
   ]
  },
  {
   "cell_type": "markdown",
   "metadata": {},
   "source": [
    "### <span style=\"color:magenta\"> Q2. [10 points] Invoice Analysis </span>\n",
    "1. For each customer calculate how many total invoices they have placed. List the top 10 customers who have placed an invoice in descending order.\n",
    "2. Perform a similar calculation but instead of the number of invoices, calculate the total quantity of items ordered for each customer. List the top 10 customers in descending order.\n",
    "3. Compare the top 10 customers, does it appear that the more invoices a customer have, the greater the total quantity of items? Explain your reasoning.\n",
    "\n",
    "_Hint: For 2.2, you may need to join two datasets together to answer the question._"
   ]
  },
  {
   "cell_type": "markdown",
   "metadata": {},
   "source": [
    "### part(1)"
   ]
  },
  {
   "cell_type": "code",
   "execution_count": null,
   "metadata": {},
   "outputs": [],
   "source": [
    "\n"
   ]
  },
  {
   "cell_type": "code",
   "execution_count": 79,
   "metadata": {},
   "outputs": [
    {
     "data": {
      "text/plain": [
       "CustomerID\n",
       "12748.0    210\n",
       "14911.0    201\n",
       "17841.0    124\n",
       "13089.0     97\n",
       "14606.0     93\n",
       "15311.0     91\n",
       "12971.0     86\n",
       "14646.0     74\n",
       "16029.0     63\n",
       "13408.0     62\n",
       "Name: count, dtype: int64"
      ]
     },
     "execution_count": 79,
     "metadata": {},
     "output_type": "execute_result"
    }
   ],
   "source": [
    "# the top 10 customers who have placed an invoice.\n",
    "invoices_unq['CustomerID'].value_counts().head(10)\n"
   ]
  },
  {
   "cell_type": "markdown",
   "metadata": {},
   "source": [
    "### part(2) List the top 10 customers in descending order."
   ]
  },
  {
   "cell_type": "code",
   "execution_count": 80,
   "metadata": {},
   "outputs": [],
   "source": [
    "# drop purchases that start with C \n",
    "pur_drop = purchases[purchases['InvoiceNo'].str.startswith('C')].index\n",
    "purchases.drop(pur_drop, inplace=True)"
   ]
  },
  {
   "cell_type": "code",
   "execution_count": 81,
   "metadata": {},
   "outputs": [
    {
     "data": {
      "text/html": [
       "<div>\n",
       "<style scoped>\n",
       "    .dataframe tbody tr th:only-of-type {\n",
       "        vertical-align: middle;\n",
       "    }\n",
       "\n",
       "    .dataframe tbody tr th {\n",
       "        vertical-align: top;\n",
       "    }\n",
       "\n",
       "    .dataframe thead th {\n",
       "        text-align: right;\n",
       "    }\n",
       "</style>\n",
       "<table border=\"1\" class=\"dataframe\">\n",
       "  <thead>\n",
       "    <tr style=\"text-align: right;\">\n",
       "      <th></th>\n",
       "      <th>InvoiceNo</th>\n",
       "      <th>StockCodeSC</th>\n",
       "      <th>Quantity</th>\n",
       "      <th>InvoiceDate</th>\n",
       "      <th>CustomerID</th>\n",
       "      <th>Country</th>\n",
       "    </tr>\n",
       "  </thead>\n",
       "  <tbody>\n",
       "    <tr>\n",
       "      <th>0</th>\n",
       "      <td>536365</td>\n",
       "      <td>SC85123A</td>\n",
       "      <td>6</td>\n",
       "      <td>12/1/10 8:26</td>\n",
       "      <td>17850.0</td>\n",
       "      <td>United Kingdom</td>\n",
       "    </tr>\n",
       "    <tr>\n",
       "      <th>1</th>\n",
       "      <td>536365</td>\n",
       "      <td>SC71053</td>\n",
       "      <td>6</td>\n",
       "      <td>12/1/10 8:26</td>\n",
       "      <td>17850.0</td>\n",
       "      <td>United Kingdom</td>\n",
       "    </tr>\n",
       "    <tr>\n",
       "      <th>2</th>\n",
       "      <td>536365</td>\n",
       "      <td>SC84406B</td>\n",
       "      <td>8</td>\n",
       "      <td>12/1/10 8:26</td>\n",
       "      <td>17850.0</td>\n",
       "      <td>United Kingdom</td>\n",
       "    </tr>\n",
       "    <tr>\n",
       "      <th>3</th>\n",
       "      <td>536365</td>\n",
       "      <td>SC84029G</td>\n",
       "      <td>6</td>\n",
       "      <td>12/1/10 8:26</td>\n",
       "      <td>17850.0</td>\n",
       "      <td>United Kingdom</td>\n",
       "    </tr>\n",
       "    <tr>\n",
       "      <th>4</th>\n",
       "      <td>536365</td>\n",
       "      <td>SC84029E</td>\n",
       "      <td>6</td>\n",
       "      <td>12/1/10 8:26</td>\n",
       "      <td>17850.0</td>\n",
       "      <td>United Kingdom</td>\n",
       "    </tr>\n",
       "  </tbody>\n",
       "</table>\n",
       "</div>"
      ],
      "text/plain": [
       "  InvoiceNo StockCodeSC  Quantity   InvoiceDate  CustomerID         Country\n",
       "0    536365    SC85123A         6  12/1/10 8:26     17850.0  United Kingdom\n",
       "1    536365     SC71053         6  12/1/10 8:26     17850.0  United Kingdom\n",
       "2    536365    SC84406B         8  12/1/10 8:26     17850.0  United Kingdom\n",
       "3    536365    SC84029G         6  12/1/10 8:26     17850.0  United Kingdom\n",
       "4    536365    SC84029E         6  12/1/10 8:26     17850.0  United Kingdom"
      ]
     },
     "execution_count": 81,
     "metadata": {},
     "output_type": "execute_result"
    }
   ],
   "source": [
    "pur_invo = pd.merge(purchases, invoices_unq, on='InvoiceNo', how='left')\n",
    "pur_invo.head()"
   ]
  },
  {
   "cell_type": "code",
   "execution_count": 82,
   "metadata": {},
   "outputs": [
    {
     "data": {
      "text/plain": [
       "CustomerID\n",
       "14646.0    197491\n",
       "16446.0     80997\n",
       "14911.0     80515\n",
       "12415.0     77670\n",
       "12346.0     74215\n",
       "17450.0     69993\n",
       "17511.0     64549\n",
       "18102.0     64124\n",
       "13694.0     63312\n",
       "14298.0     58343\n",
       "Name: Quantity, dtype: int64"
      ]
     },
     "execution_count": 82,
     "metadata": {},
     "output_type": "execute_result"
    }
   ],
   "source": [
    "#  total quantity of items ordered for top 10 customers.\n",
    "pur_invo.groupby('CustomerID')['Quantity'].sum().sort_values(ascending= False).head(10)"
   ]
  },
  {
   "cell_type": "markdown",
   "metadata": {},
   "source": [
    "### part (3) Does it appear that the more invoices a customer have, the greater the total quantity of items? \n",
    "\n",
    "Won't. Based on the comparison between the results from parts (1) and (2), it shows the Customers have big difference. It is not necessarily true that customers with more invoices purchase a greater total quantity of items. "
   ]
  },
  {
   "cell_type": "markdown",
   "metadata": {},
   "source": [
    "### <span style=\"color:magenta\"> Q3. [10 points] Item Analysis </span>\n",
    "1. What is the average item-unit price? \n",
    "1. What % of items are under $25?\n",
    "1. Generate a histogram of the unit prices. Select reasonable min/max values for the x-axis. Why did you pick those values? What do you notice about the histogram? "
   ]
  },
  {
   "cell_type": "markdown",
   "metadata": {},
   "source": [
    "### part(1) What is the average item-unit price? "
   ]
  },
  {
   "cell_type": "code",
   "execution_count": 83,
   "metadata": {},
   "outputs": [
    {
     "data": {
      "text/plain": [
       "True"
      ]
     },
     "execution_count": 83,
     "metadata": {},
     "output_type": "execute_result"
    }
   ],
   "source": [
    "items.shape[0] == items['StockCode'].nunique()"
   ]
  },
  {
   "cell_type": "code",
   "execution_count": 84,
   "metadata": {},
   "outputs": [
    {
     "name": "stdout",
     "output_type": "stream",
     "text": [
      "The average unit price of all item is $6.91\n"
     ]
    }
   ],
   "source": [
    "a = items['UnitPrice'].mean()\n",
    "print(f'The average unit price of all item is ${a:.2f}')"
   ]
  },
  {
   "cell_type": "markdown",
   "metadata": {},
   "source": [
    "### part(2) What % of items are under $25?"
   ]
  },
  {
   "cell_type": "code",
   "execution_count": 85,
   "metadata": {},
   "outputs": [
    {
     "name": "stdout",
     "output_type": "stream",
     "text": [
      "98.75% of items cost less than $25\n"
     ]
    }
   ],
   "source": [
    "b = items[items['UnitPrice'] < 25].shape[0]/items.shape[0]\n",
    "\n",
    "print(f'{b*100:.2f}% of items cost less than $25')"
   ]
  },
  {
   "cell_type": "markdown",
   "metadata": {},
   "source": [
    "### part(3) Generate a histogram of the unit prices. Select reasonable min/max values for the x-axis. Why did you pick those values? What do you notice about the histogram?"
   ]
  },
  {
   "cell_type": "code",
   "execution_count": 86,
   "metadata": {},
   "outputs": [
    {
     "data": {
      "text/plain": [
       "3260    0.0\n",
       "3283    0.0\n",
       "3282    0.0\n",
       "3280    0.0\n",
       "3279    0.0\n",
       "3278    0.0\n",
       "3277    0.0\n",
       "3275    0.0\n",
       "3274    0.0\n",
       "3273    0.0\n",
       "Name: UnitPrice, dtype: float64"
      ]
     },
     "execution_count": 86,
     "metadata": {},
     "output_type": "execute_result"
    }
   ],
   "source": [
    "# check min and max of unit price\n",
    "items['UnitPrice'].sort_values(ascending= True).head(10)\n"
   ]
  },
  {
   "cell_type": "code",
   "execution_count": 87,
   "metadata": {},
   "outputs": [
    {
     "data": {
      "text/plain": [
       "3753    11062.06\n",
       "952       569.77\n",
       "1591      295.00\n",
       "2541      175.00\n",
       "190       165.00\n",
       "2397      165.00\n",
       "2619      125.00\n",
       "2785      125.00\n",
       "3732       83.33\n",
       "1445       79.95\n",
       "Name: UnitPrice, dtype: float64"
      ]
     },
     "execution_count": 87,
     "metadata": {},
     "output_type": "execute_result"
    }
   ],
   "source": [
    "items['UnitPrice'].sort_values(ascending= False).head(10)\n"
   ]
  },
  {
   "cell_type": "code",
   "execution_count": 88,
   "metadata": {},
   "outputs": [
    {
     "data": {
      "text/plain": [
       "<Axes: >"
      ]
     },
     "execution_count": 88,
     "metadata": {},
     "output_type": "execute_result"
    },
    {
     "data": {
      "image/png": "[encoded data removed]",
      "text/plain": [
       "<Figure size 640x480 with 1 Axes>"
      ]
     },
     "metadata": {},
     "output_type": "display_data"
    }
   ],
   "source": [
    "up_less20 = items[items['UnitPrice'] <= 20]\n",
    "up_less20['UnitPrice'].hist(bins=50)"
   ]
  },
  {
   "cell_type": "code",
   "execution_count": 89,
   "metadata": {},
   "outputs": [
    {
     "name": "stdout",
     "output_type": "stream",
     "text": [
      "1.62% of items cost more than $20\n"
     ]
    }
   ],
   "source": [
    "up_over20 = items[items['UnitPrice'] > 20].value_counts().sum()\n",
    "percent_over20 = up_over20/items.shape[0]\n",
    "print(f'{percent_over20*100:.2f}% of items cost more than $20')"
   ]
  },
  {
   "cell_type": "markdown",
   "metadata": {},
   "source": [
    "The reason I chose 20 is because there are only 66 items over 20 dollar, accounting for 1.62 percent of the total. If I plot a histogram of all product unit prices, the chart will expand the range of each bin, what we can observe is limited, and the information from the histogram with all product unit prices will be lost. Also, from the histogram, the most purchased products are concentrated under 5 dollor."
   ]
  },
  {
   "cell_type": "markdown",
   "metadata": {},
   "source": [
    "### <span style=\"color:magenta\"> Q4. [25 points] Order Trends </span>\n",
    "1. What are the top 10 most ordered items? Describe them. Do you see any trends?  \n",
    "1. What are the top 5 invoices that generated the most revenue? (Revenue is calculated by \"marking up\" the unit price by 25%.) \n",
    "1. Do the top 5 invoices contain any of the top 10 most ordered items?\n",
    "\n",
    "_Hint: When calculating the revenue we suggest adding a new column on the dataframe._"
   ]
  },
  {
   "cell_type": "markdown",
   "metadata": {},
   "source": [
    "part(a)"
   ]
  },
  {
   "cell_type": "code",
   "execution_count": 90,
   "metadata": {},
   "outputs": [
    {
     "data": {
      "text/html": [
       "<div>\n",
       "<style scoped>\n",
       "    .dataframe tbody tr th:only-of-type {\n",
       "        vertical-align: middle;\n",
       "    }\n",
       "\n",
       "    .dataframe tbody tr th {\n",
       "        vertical-align: top;\n",
       "    }\n",
       "\n",
       "    .dataframe thead th {\n",
       "        text-align: right;\n",
       "    }\n",
       "</style>\n",
       "<table border=\"1\" class=\"dataframe\">\n",
       "  <thead>\n",
       "    <tr style=\"text-align: right;\">\n",
       "      <th></th>\n",
       "      <th>InvoiceNo</th>\n",
       "      <th>StockCodeSC</th>\n",
       "      <th>Quantity</th>\n",
       "      <th>StockCode</th>\n",
       "    </tr>\n",
       "  </thead>\n",
       "  <tbody>\n",
       "    <tr>\n",
       "      <th>0</th>\n",
       "      <td>536365</td>\n",
       "      <td>SC85123A</td>\n",
       "      <td>6</td>\n",
       "      <td>85123A</td>\n",
       "    </tr>\n",
       "    <tr>\n",
       "      <th>1</th>\n",
       "      <td>536365</td>\n",
       "      <td>SC71053</td>\n",
       "      <td>6</td>\n",
       "      <td>71053</td>\n",
       "    </tr>\n",
       "    <tr>\n",
       "      <th>2</th>\n",
       "      <td>536365</td>\n",
       "      <td>SC84406B</td>\n",
       "      <td>8</td>\n",
       "      <td>84406B</td>\n",
       "    </tr>\n",
       "    <tr>\n",
       "      <th>3</th>\n",
       "      <td>536365</td>\n",
       "      <td>SC84029G</td>\n",
       "      <td>6</td>\n",
       "      <td>84029G</td>\n",
       "    </tr>\n",
       "    <tr>\n",
       "      <th>4</th>\n",
       "      <td>536365</td>\n",
       "      <td>SC84029E</td>\n",
       "      <td>6</td>\n",
       "      <td>84029E</td>\n",
       "    </tr>\n",
       "  </tbody>\n",
       "</table>\n",
       "</div>"
      ],
      "text/plain": [
       "  InvoiceNo StockCodeSC  Quantity StockCode\n",
       "0    536365    SC85123A         6    85123A\n",
       "1    536365     SC71053         6     71053\n",
       "2    536365    SC84406B         8    84406B\n",
       "3    536365    SC84029G         6    84029G\n",
       "4    536365    SC84029E         6    84029E"
      ]
     },
     "execution_count": 90,
     "metadata": {},
     "output_type": "execute_result"
    }
   ],
   "source": [
    "# remove the SC prefix from StockCodeSC\n",
    "purchases['StockCode'] = purchases['StockCodeSC'].astype(str).str.replace('SC', '')\n",
    "purchases.head()"
   ]
  },
  {
   "cell_type": "code",
   "execution_count": 91,
   "metadata": {},
   "outputs": [
    {
     "data": {
      "text/html": [
       "<div>\n",
       "<style scoped>\n",
       "    .dataframe tbody tr th:only-of-type {\n",
       "        vertical-align: middle;\n",
       "    }\n",
       "\n",
       "    .dataframe tbody tr th {\n",
       "        vertical-align: top;\n",
       "    }\n",
       "\n",
       "    .dataframe thead th {\n",
       "        text-align: right;\n",
       "    }\n",
       "</style>\n",
       "<table border=\"1\" class=\"dataframe\">\n",
       "  <thead>\n",
       "    <tr style=\"text-align: right;\">\n",
       "      <th></th>\n",
       "      <th>InvoiceNo</th>\n",
       "      <th>StockCodeSC</th>\n",
       "      <th>Quantity</th>\n",
       "      <th>StockCode</th>\n",
       "      <th>Description</th>\n",
       "      <th>UnitPrice</th>\n",
       "    </tr>\n",
       "  </thead>\n",
       "  <tbody>\n",
       "    <tr>\n",
       "      <th>0</th>\n",
       "      <td>536365</td>\n",
       "      <td>SC85123A</td>\n",
       "      <td>6</td>\n",
       "      <td>85123A</td>\n",
       "      <td>WHITE HANGING HEART T-LIGHT HOLDER</td>\n",
       "      <td>2.55</td>\n",
       "    </tr>\n",
       "    <tr>\n",
       "      <th>1</th>\n",
       "      <td>536365</td>\n",
       "      <td>SC71053</td>\n",
       "      <td>6</td>\n",
       "      <td>71053</td>\n",
       "      <td>WHITE METAL LANTERN</td>\n",
       "      <td>3.39</td>\n",
       "    </tr>\n",
       "    <tr>\n",
       "      <th>2</th>\n",
       "      <td>536365</td>\n",
       "      <td>SC84406B</td>\n",
       "      <td>8</td>\n",
       "      <td>84406B</td>\n",
       "      <td>CREAM CUPID HEARTS COAT HANGER</td>\n",
       "      <td>2.75</td>\n",
       "    </tr>\n",
       "    <tr>\n",
       "      <th>3</th>\n",
       "      <td>536365</td>\n",
       "      <td>SC84029G</td>\n",
       "      <td>6</td>\n",
       "      <td>84029G</td>\n",
       "      <td>KNITTED UNION FLAG HOT WATER BOTTLE</td>\n",
       "      <td>3.39</td>\n",
       "    </tr>\n",
       "    <tr>\n",
       "      <th>4</th>\n",
       "      <td>536365</td>\n",
       "      <td>SC84029E</td>\n",
       "      <td>6</td>\n",
       "      <td>84029E</td>\n",
       "      <td>RED WOOLLY HOTTIE WHITE HEART.</td>\n",
       "      <td>3.39</td>\n",
       "    </tr>\n",
       "  </tbody>\n",
       "</table>\n",
       "</div>"
      ],
      "text/plain": [
       "  InvoiceNo StockCodeSC  Quantity StockCode  \\\n",
       "0    536365    SC85123A         6    85123A   \n",
       "1    536365     SC71053         6     71053   \n",
       "2    536365    SC84406B         8    84406B   \n",
       "3    536365    SC84029G         6    84029G   \n",
       "4    536365    SC84029E         6    84029E   \n",
       "\n",
       "                           Description  UnitPrice  \n",
       "0   WHITE HANGING HEART T-LIGHT HOLDER       2.55  \n",
       "1                  WHITE METAL LANTERN       3.39  \n",
       "2       CREAM CUPID HEARTS COAT HANGER       2.75  \n",
       "3  KNITTED UNION FLAG HOT WATER BOTTLE       3.39  \n",
       "4       RED WOOLLY HOTTIE WHITE HEART.       3.39  "
      ]
     },
     "execution_count": 91,
     "metadata": {},
     "output_type": "execute_result"
    }
   ],
   "source": [
    "pur_items = pd.merge(purchases, items, on='StockCode', how='left')\n",
    "pur_items.head()"
   ]
  },
  {
   "cell_type": "code",
   "execution_count": 92,
   "metadata": {},
   "outputs": [
    {
     "data": {
      "text/plain": [
       "StockCode\n",
       "23843     80995\n",
       "23166     78033\n",
       "22197     56921\n",
       "84077     55047\n",
       "85099B    48478\n",
       "85123A    41408\n",
       "21212     36419\n",
       "84879     36301\n",
       "23084     30754\n",
       "22492     26633\n",
       "Name: Quantity, dtype: int64"
      ]
     },
     "execution_count": 92,
     "metadata": {},
     "output_type": "execute_result"
    }
   ],
   "source": [
    "# find the top 10 most popular items\n",
    "popular10 = purchases.groupby('StockCode')['Quantity'].sum().sort_values(ascending= False).head(10)\n",
    "popular10"
   ]
  },
  {
   "cell_type": "code",
   "execution_count": 93,
   "metadata": {},
   "outputs": [
    {
     "name": "stdout",
     "output_type": "stream",
     "text": [
      "  StockCode  Quantity                         Description  UnitPrice\n",
      "0     23843     80995         PAPER CRAFT , LITTLE BIRDIE       2.08\n",
      "1     23166     78033      MEDIUM CERAMIC TOP STORAGE JAR       1.04\n",
      "2     22197     56921                SMALL POPCORN HOLDER       0.72\n",
      "3     84077     55047   WORLD WAR 2 GLIDERS ASSTD DESIGNS       0.29\n",
      "4    85099B     48478             JUMBO BAG RED RETROSPOT       1.65\n",
      "5    85123A     41408  WHITE HANGING HEART T-LIGHT HOLDER       2.55\n",
      "6     21212     36419     PACK OF 72 RETROSPOT CAKE CASES       0.42\n",
      "7     84879     36301       ASSORTED COLOUR BIRD ORNAMENT       1.69\n",
      "8     23084     30754                  RABBIT NIGHT LIGHT       2.08\n",
      "9     22492     26633             MINI PAINT SET VINTAGE        0.65\n"
     ]
    },
    {
     "data": {
      "text/plain": [
       "0           PAPER CRAFT , LITTLE BIRDIE\n",
       "1        MEDIUM CERAMIC TOP STORAGE JAR\n",
       "2                  SMALL POPCORN HOLDER\n",
       "3     WORLD WAR 2 GLIDERS ASSTD DESIGNS\n",
       "4               JUMBO BAG RED RETROSPOT\n",
       "5    WHITE HANGING HEART T-LIGHT HOLDER\n",
       "6       PACK OF 72 RETROSPOT CAKE CASES\n",
       "7         ASSORTED COLOUR BIRD ORNAMENT\n",
       "8                    RABBIT NIGHT LIGHT\n",
       "9               MINI PAINT SET VINTAGE \n",
       "Name: Description, dtype: object"
      ]
     },
     "execution_count": 93,
     "metadata": {},
     "output_type": "execute_result"
    }
   ],
   "source": [
    "# 10 most popular items with their descriptions\n",
    "top10_items = pd.merge(popular10, items, on='StockCode', how='left')\n",
    "print(top10_items)\n",
    "top10_items['Description']\n"
   ]
  },
  {
   "cell_type": "markdown",
   "metadata": {},
   "source": [
    "part(b)"
   ]
  },
  {
   "cell_type": "code",
   "execution_count": 94,
   "metadata": {},
   "outputs": [
    {
     "data": {
      "text/html": [
       "<div>\n",
       "<style scoped>\n",
       "    .dataframe tbody tr th:only-of-type {\n",
       "        vertical-align: middle;\n",
       "    }\n",
       "\n",
       "    .dataframe tbody tr th {\n",
       "        vertical-align: top;\n",
       "    }\n",
       "\n",
       "    .dataframe thead th {\n",
       "        text-align: right;\n",
       "    }\n",
       "</style>\n",
       "<table border=\"1\" class=\"dataframe\">\n",
       "  <thead>\n",
       "    <tr style=\"text-align: right;\">\n",
       "      <th></th>\n",
       "      <th>InvoiceNo</th>\n",
       "      <th>StockCodeSC</th>\n",
       "      <th>Quantity</th>\n",
       "      <th>StockCode</th>\n",
       "      <th>InvoiceDate</th>\n",
       "      <th>CustomerID</th>\n",
       "      <th>Country</th>\n",
       "    </tr>\n",
       "  </thead>\n",
       "  <tbody>\n",
       "    <tr>\n",
       "      <th>0</th>\n",
       "      <td>536365</td>\n",
       "      <td>SC85123A</td>\n",
       "      <td>6</td>\n",
       "      <td>85123A</td>\n",
       "      <td>12/1/10 8:26</td>\n",
       "      <td>17850.0</td>\n",
       "      <td>United Kingdom</td>\n",
       "    </tr>\n",
       "    <tr>\n",
       "      <th>1</th>\n",
       "      <td>536365</td>\n",
       "      <td>SC71053</td>\n",
       "      <td>6</td>\n",
       "      <td>71053</td>\n",
       "      <td>12/1/10 8:26</td>\n",
       "      <td>17850.0</td>\n",
       "      <td>United Kingdom</td>\n",
       "    </tr>\n",
       "    <tr>\n",
       "      <th>2</th>\n",
       "      <td>536365</td>\n",
       "      <td>SC84406B</td>\n",
       "      <td>8</td>\n",
       "      <td>84406B</td>\n",
       "      <td>12/1/10 8:26</td>\n",
       "      <td>17850.0</td>\n",
       "      <td>United Kingdom</td>\n",
       "    </tr>\n",
       "    <tr>\n",
       "      <th>3</th>\n",
       "      <td>536365</td>\n",
       "      <td>SC84029G</td>\n",
       "      <td>6</td>\n",
       "      <td>84029G</td>\n",
       "      <td>12/1/10 8:26</td>\n",
       "      <td>17850.0</td>\n",
       "      <td>United Kingdom</td>\n",
       "    </tr>\n",
       "    <tr>\n",
       "      <th>4</th>\n",
       "      <td>536365</td>\n",
       "      <td>SC84029E</td>\n",
       "      <td>6</td>\n",
       "      <td>84029E</td>\n",
       "      <td>12/1/10 8:26</td>\n",
       "      <td>17850.0</td>\n",
       "      <td>United Kingdom</td>\n",
       "    </tr>\n",
       "    <tr>\n",
       "      <th>...</th>\n",
       "      <td>...</td>\n",
       "      <td>...</td>\n",
       "      <td>...</td>\n",
       "      <td>...</td>\n",
       "      <td>...</td>\n",
       "      <td>...</td>\n",
       "      <td>...</td>\n",
       "    </tr>\n",
       "    <tr>\n",
       "      <th>532616</th>\n",
       "      <td>581587</td>\n",
       "      <td>SC22613</td>\n",
       "      <td>12</td>\n",
       "      <td>22613</td>\n",
       "      <td>12/9/11 12:50</td>\n",
       "      <td>12680.0</td>\n",
       "      <td>France</td>\n",
       "    </tr>\n",
       "    <tr>\n",
       "      <th>532617</th>\n",
       "      <td>581587</td>\n",
       "      <td>SC22899</td>\n",
       "      <td>6</td>\n",
       "      <td>22899</td>\n",
       "      <td>12/9/11 12:50</td>\n",
       "      <td>12680.0</td>\n",
       "      <td>France</td>\n",
       "    </tr>\n",
       "    <tr>\n",
       "      <th>532618</th>\n",
       "      <td>581587</td>\n",
       "      <td>SC23254</td>\n",
       "      <td>4</td>\n",
       "      <td>23254</td>\n",
       "      <td>12/9/11 12:50</td>\n",
       "      <td>12680.0</td>\n",
       "      <td>France</td>\n",
       "    </tr>\n",
       "    <tr>\n",
       "      <th>532619</th>\n",
       "      <td>581587</td>\n",
       "      <td>SC23255</td>\n",
       "      <td>4</td>\n",
       "      <td>23255</td>\n",
       "      <td>12/9/11 12:50</td>\n",
       "      <td>12680.0</td>\n",
       "      <td>France</td>\n",
       "    </tr>\n",
       "    <tr>\n",
       "      <th>532620</th>\n",
       "      <td>581587</td>\n",
       "      <td>SC22138</td>\n",
       "      <td>3</td>\n",
       "      <td>22138</td>\n",
       "      <td>12/9/11 12:50</td>\n",
       "      <td>12680.0</td>\n",
       "      <td>France</td>\n",
       "    </tr>\n",
       "  </tbody>\n",
       "</table>\n",
       "<p>532621 rows × 7 columns</p>\n",
       "</div>"
      ],
      "text/plain": [
       "       InvoiceNo StockCodeSC  Quantity StockCode    InvoiceDate  CustomerID  \\\n",
       "0         536365    SC85123A         6    85123A   12/1/10 8:26     17850.0   \n",
       "1         536365     SC71053         6     71053   12/1/10 8:26     17850.0   \n",
       "2         536365    SC84406B         8    84406B   12/1/10 8:26     17850.0   \n",
       "3         536365    SC84029G         6    84029G   12/1/10 8:26     17850.0   \n",
       "4         536365    SC84029E         6    84029E   12/1/10 8:26     17850.0   \n",
       "...          ...         ...       ...       ...            ...         ...   \n",
       "532616    581587     SC22613        12     22613  12/9/11 12:50     12680.0   \n",
       "532617    581587     SC22899         6     22899  12/9/11 12:50     12680.0   \n",
       "532618    581587     SC23254         4     23254  12/9/11 12:50     12680.0   \n",
       "532619    581587     SC23255         4     23255  12/9/11 12:50     12680.0   \n",
       "532620    581587     SC22138         3     22138  12/9/11 12:50     12680.0   \n",
       "\n",
       "               Country  \n",
       "0       United Kingdom  \n",
       "1       United Kingdom  \n",
       "2       United Kingdom  \n",
       "3       United Kingdom  \n",
       "4       United Kingdom  \n",
       "...                ...  \n",
       "532616          France  \n",
       "532617          France  \n",
       "532618          France  \n",
       "532619          France  \n",
       "532620          France  \n",
       "\n",
       "[532621 rows x 7 columns]"
      ]
     },
     "execution_count": 94,
     "metadata": {},
     "output_type": "execute_result"
    }
   ],
   "source": [
    "# merge purchases and invoices_unq tables\n",
    "pur_invo2 = pd.merge(purchases, invoices_unq, on='InvoiceNo', how='left')\n",
    "pur_invo2"
   ]
  },
  {
   "cell_type": "code",
   "execution_count": 95,
   "metadata": {},
   "outputs": [
    {
     "data": {
      "text/html": [
       "<div>\n",
       "<style scoped>\n",
       "    .dataframe tbody tr th:only-of-type {\n",
       "        vertical-align: middle;\n",
       "    }\n",
       "\n",
       "    .dataframe tbody tr th {\n",
       "        vertical-align: top;\n",
       "    }\n",
       "\n",
       "    .dataframe thead th {\n",
       "        text-align: right;\n",
       "    }\n",
       "</style>\n",
       "<table border=\"1\" class=\"dataframe\">\n",
       "  <thead>\n",
       "    <tr style=\"text-align: right;\">\n",
       "      <th></th>\n",
       "      <th>InvoiceNo</th>\n",
       "      <th>StockCodeSC</th>\n",
       "      <th>Quantity</th>\n",
       "      <th>StockCode</th>\n",
       "      <th>InvoiceDate</th>\n",
       "      <th>CustomerID</th>\n",
       "      <th>Country</th>\n",
       "      <th>Description</th>\n",
       "      <th>UnitPrice</th>\n",
       "      <th>TotalPrice</th>\n",
       "    </tr>\n",
       "  </thead>\n",
       "  <tbody>\n",
       "    <tr>\n",
       "      <th>0</th>\n",
       "      <td>536365</td>\n",
       "      <td>SC85123A</td>\n",
       "      <td>6</td>\n",
       "      <td>85123A</td>\n",
       "      <td>12/1/10 8:26</td>\n",
       "      <td>17850.0</td>\n",
       "      <td>United Kingdom</td>\n",
       "      <td>WHITE HANGING HEART T-LIGHT HOLDER</td>\n",
       "      <td>2.55</td>\n",
       "      <td>19.1250</td>\n",
       "    </tr>\n",
       "    <tr>\n",
       "      <th>1</th>\n",
       "      <td>536365</td>\n",
       "      <td>SC71053</td>\n",
       "      <td>6</td>\n",
       "      <td>71053</td>\n",
       "      <td>12/1/10 8:26</td>\n",
       "      <td>17850.0</td>\n",
       "      <td>United Kingdom</td>\n",
       "      <td>WHITE METAL LANTERN</td>\n",
       "      <td>3.39</td>\n",
       "      <td>25.4250</td>\n",
       "    </tr>\n",
       "    <tr>\n",
       "      <th>2</th>\n",
       "      <td>536365</td>\n",
       "      <td>SC84406B</td>\n",
       "      <td>8</td>\n",
       "      <td>84406B</td>\n",
       "      <td>12/1/10 8:26</td>\n",
       "      <td>17850.0</td>\n",
       "      <td>United Kingdom</td>\n",
       "      <td>CREAM CUPID HEARTS COAT HANGER</td>\n",
       "      <td>2.75</td>\n",
       "      <td>27.5000</td>\n",
       "    </tr>\n",
       "    <tr>\n",
       "      <th>3</th>\n",
       "      <td>536365</td>\n",
       "      <td>SC84029G</td>\n",
       "      <td>6</td>\n",
       "      <td>84029G</td>\n",
       "      <td>12/1/10 8:26</td>\n",
       "      <td>17850.0</td>\n",
       "      <td>United Kingdom</td>\n",
       "      <td>KNITTED UNION FLAG HOT WATER BOTTLE</td>\n",
       "      <td>3.39</td>\n",
       "      <td>25.4250</td>\n",
       "    </tr>\n",
       "    <tr>\n",
       "      <th>4</th>\n",
       "      <td>536365</td>\n",
       "      <td>SC84029E</td>\n",
       "      <td>6</td>\n",
       "      <td>84029E</td>\n",
       "      <td>12/1/10 8:26</td>\n",
       "      <td>17850.0</td>\n",
       "      <td>United Kingdom</td>\n",
       "      <td>RED WOOLLY HOTTIE WHITE HEART.</td>\n",
       "      <td>3.39</td>\n",
       "      <td>25.4250</td>\n",
       "    </tr>\n",
       "    <tr>\n",
       "      <th>...</th>\n",
       "      <td>...</td>\n",
       "      <td>...</td>\n",
       "      <td>...</td>\n",
       "      <td>...</td>\n",
       "      <td>...</td>\n",
       "      <td>...</td>\n",
       "      <td>...</td>\n",
       "      <td>...</td>\n",
       "      <td>...</td>\n",
       "      <td>...</td>\n",
       "    </tr>\n",
       "    <tr>\n",
       "      <th>532616</th>\n",
       "      <td>581587</td>\n",
       "      <td>SC22613</td>\n",
       "      <td>12</td>\n",
       "      <td>22613</td>\n",
       "      <td>12/9/11 12:50</td>\n",
       "      <td>12680.0</td>\n",
       "      <td>France</td>\n",
       "      <td>PACK OF 20 SPACEBOY NAPKINS</td>\n",
       "      <td>1.66</td>\n",
       "      <td>24.9000</td>\n",
       "    </tr>\n",
       "    <tr>\n",
       "      <th>532617</th>\n",
       "      <td>581587</td>\n",
       "      <td>SC22899</td>\n",
       "      <td>6</td>\n",
       "      <td>22899</td>\n",
       "      <td>12/9/11 12:50</td>\n",
       "      <td>12680.0</td>\n",
       "      <td>France</td>\n",
       "      <td>CHILDREN'S APRON DOLLY GIRL</td>\n",
       "      <td>2.10</td>\n",
       "      <td>15.7500</td>\n",
       "    </tr>\n",
       "    <tr>\n",
       "      <th>532618</th>\n",
       "      <td>581587</td>\n",
       "      <td>SC23254</td>\n",
       "      <td>4</td>\n",
       "      <td>23254</td>\n",
       "      <td>12/9/11 12:50</td>\n",
       "      <td>12680.0</td>\n",
       "      <td>France</td>\n",
       "      <td>CHILDRENS CUTLERY DOLLY GIRL</td>\n",
       "      <td>4.15</td>\n",
       "      <td>20.7500</td>\n",
       "    </tr>\n",
       "    <tr>\n",
       "      <th>532619</th>\n",
       "      <td>581587</td>\n",
       "      <td>SC23255</td>\n",
       "      <td>4</td>\n",
       "      <td>23255</td>\n",
       "      <td>12/9/11 12:50</td>\n",
       "      <td>12680.0</td>\n",
       "      <td>France</td>\n",
       "      <td>CHILDRENS CUTLERY CIRCUS PARADE</td>\n",
       "      <td>4.15</td>\n",
       "      <td>20.7500</td>\n",
       "    </tr>\n",
       "    <tr>\n",
       "      <th>532620</th>\n",
       "      <td>581587</td>\n",
       "      <td>SC22138</td>\n",
       "      <td>3</td>\n",
       "      <td>22138</td>\n",
       "      <td>12/9/11 12:50</td>\n",
       "      <td>12680.0</td>\n",
       "      <td>France</td>\n",
       "      <td>BAKING SET 9 PIECE RETROSPOT</td>\n",
       "      <td>4.95</td>\n",
       "      <td>18.5625</td>\n",
       "    </tr>\n",
       "  </tbody>\n",
       "</table>\n",
       "<p>532621 rows × 10 columns</p>\n",
       "</div>"
      ],
      "text/plain": [
       "       InvoiceNo StockCodeSC  Quantity StockCode    InvoiceDate  CustomerID  \\\n",
       "0         536365    SC85123A         6    85123A   12/1/10 8:26     17850.0   \n",
       "1         536365     SC71053         6     71053   12/1/10 8:26     17850.0   \n",
       "2         536365    SC84406B         8    84406B   12/1/10 8:26     17850.0   \n",
       "3         536365    SC84029G         6    84029G   12/1/10 8:26     17850.0   \n",
       "4         536365    SC84029E         6    84029E   12/1/10 8:26     17850.0   \n",
       "...          ...         ...       ...       ...            ...         ...   \n",
       "532616    581587     SC22613        12     22613  12/9/11 12:50     12680.0   \n",
       "532617    581587     SC22899         6     22899  12/9/11 12:50     12680.0   \n",
       "532618    581587     SC23254         4     23254  12/9/11 12:50     12680.0   \n",
       "532619    581587     SC23255         4     23255  12/9/11 12:50     12680.0   \n",
       "532620    581587     SC22138         3     22138  12/9/11 12:50     12680.0   \n",
       "\n",
       "               Country                          Description  UnitPrice  \\\n",
       "0       United Kingdom   WHITE HANGING HEART T-LIGHT HOLDER       2.55   \n",
       "1       United Kingdom                  WHITE METAL LANTERN       3.39   \n",
       "2       United Kingdom       CREAM CUPID HEARTS COAT HANGER       2.75   \n",
       "3       United Kingdom  KNITTED UNION FLAG HOT WATER BOTTLE       3.39   \n",
       "4       United Kingdom       RED WOOLLY HOTTIE WHITE HEART.       3.39   \n",
       "...                ...                                  ...        ...   \n",
       "532616          France          PACK OF 20 SPACEBOY NAPKINS       1.66   \n",
       "532617          France         CHILDREN'S APRON DOLLY GIRL        2.10   \n",
       "532618          France        CHILDRENS CUTLERY DOLLY GIRL        4.15   \n",
       "532619          France      CHILDRENS CUTLERY CIRCUS PARADE       4.15   \n",
       "532620          France        BAKING SET 9 PIECE RETROSPOT        4.95   \n",
       "\n",
       "        TotalPrice  \n",
       "0          19.1250  \n",
       "1          25.4250  \n",
       "2          27.5000  \n",
       "3          25.4250  \n",
       "4          25.4250  \n",
       "...            ...  \n",
       "532616     24.9000  \n",
       "532617     15.7500  \n",
       "532618     20.7500  \n",
       "532619     20.7500  \n",
       "532620     18.5625  \n",
       "\n",
       "[532621 rows x 10 columns]"
      ]
     },
     "execution_count": 95,
     "metadata": {},
     "output_type": "execute_result"
    }
   ],
   "source": [
    "# then merge three tables together and calculate the total price\n",
    "all_table = pd.merge(pur_invo2, items, on='StockCode', how='left')\n",
    "all_table['TotalPrice'] = all_table['Quantity'] * all_table['UnitPrice'] *1.25\n",
    "\n",
    "all_table"
   ]
  },
  {
   "cell_type": "code",
   "execution_count": 96,
   "metadata": {},
   "outputs": [
    {
     "name": "stdout",
     "output_type": "stream",
     "text": [
      "InvoiceNo\n",
      "547966    712212.5000\n",
      "581483    210587.0000\n",
      "541431     96479.5000\n",
      "556255     37305.0000\n",
      "556917     34545.9125\n",
      "Name: TotalPrice, dtype: float64\n"
     ]
    }
   ],
   "source": [
    "# the top 5 invoices with the highest total price\n",
    "top5_invos = all_table.groupby('InvoiceNo')['TotalPrice'].sum().sort_values(ascending= False).head(5)\n",
    "print(top5_invos)"
   ]
  },
  {
   "cell_type": "markdown",
   "metadata": {},
   "source": [
    "part(c)"
   ]
  },
  {
   "cell_type": "code",
   "execution_count": 97,
   "metadata": {},
   "outputs": [
    {
     "name": "stdout",
     "output_type": "stream",
     "text": [
      "       InvoiceNo StockCodeSC  Quantity StockCode    InvoiceDate  CustomerID  \\\n",
      "60580     541431     SC23166     74215     23166  1/18/11 10:01     12346.0   \n",
      "134078    547966       SCDOT      1000       DOT  3/28/11 15:49         NaN   \n",
      "217550    556255     SC48138       300     48138   6/9/11 17:27     18102.0   \n",
      "217551    556255    SC48173C       300    48173C   6/9/11 17:27     18102.0   \n",
      "217552    556255     SC48188       300     48188   6/9/11 17:27     18102.0   \n",
      "...          ...         ...       ...       ...            ...         ...   \n",
      "224157    556917     SC22364        24     22364  6/15/11 13:37     12415.0   \n",
      "224158    556917     SC22363        24     22363  6/15/11 13:37     12415.0   \n",
      "224159    556917     SC21115        16     21115  6/15/11 13:37     12415.0   \n",
      "224160    556917     SC22308        50     22308  6/15/11 13:37     12415.0   \n",
      "531140    581483     SC23843     80995     23843   12/9/11 9:15     16446.0   \n",
      "\n",
      "               Country                     Description  UnitPrice  TotalPrice  \n",
      "60580   United Kingdom  MEDIUM CERAMIC TOP STORAGE JAR       1.04    96479.50  \n",
      "134078  United Kingdom                  DOTCOM POSTAGE     569.77   712212.50  \n",
      "217550  United Kingdom              DOORMAT UNION FLAG       7.95     2981.25  \n",
      "217551  United Kingdom            DOORMAT BLACK FLOCK        7.95     2981.25  \n",
      "217552  United Kingdom         DOORMAT WELCOME PUPPIES      14.43     5411.25  \n",
      "...                ...                             ...        ...         ...  \n",
      "224157       Australia    GLASS JAR DIGESTIVE BISCUITS       2.95       88.50  \n",
      "224158       Australia            GLASS JAR MARMALADE        5.91      177.30  \n",
      "224159       Australia           ROSE CARAVAN DOORSTOP       6.75      135.00  \n",
      "224160       Australia            TEA COSY BLUE STRIPE       5.06      316.25  \n",
      "531140  United Kingdom     PAPER CRAFT , LITTLE BIRDIE       2.08   210587.00  \n",
      "\n",
      "[153 rows x 10 columns]\n"
     ]
    }
   ],
   "source": [
    "# items in the top 5 invoices\n",
    "s = all_table[all_table['InvoiceNo'].isin(top5_invos.index)]\n",
    "print(s)"
   ]
  },
  {
   "cell_type": "code",
   "execution_count": 98,
   "metadata": {},
   "outputs": [
    {
     "data": {
      "text/plain": [
       "InvoiceNo  StockCodeSC  Quantity  StockCode  InvoiceDate    CustomerID  Country         Description                      UnitPrice  TotalPrice\n",
       "541431     SC23166      74215     23166      1/18/11 10:01  12346.0     United Kingdom  MEDIUM CERAMIC TOP STORAGE JAR   1.04       96479.50      1\n",
       "556917     SC21212      240       21212      6/15/11 13:37  12415.0     Australia       PACK OF 72 RETROSPOT CAKE CASES  0.42       126.00        1\n",
       "           SC22492      576       22492      6/15/11 13:37  12415.0     Australia       MINI PAINT SET VINTAGE           0.65       468.00        1\n",
       "           SC23084      240       23084      6/15/11 13:37  12415.0     Australia       RABBIT NIGHT LIGHT               2.08       624.00        1\n",
       "           SC23166      96        23166      6/15/11 13:37  12415.0     Australia       MEDIUM CERAMIC TOP STORAGE JAR   1.04       124.80        1\n",
       "           SC85099B     100       85099B     6/15/11 13:37  12415.0     Australia       JUMBO BAG RED RETROSPOT          1.65       206.25        1\n",
       "581483     SC23843      80995     23843      12/9/11 9:15   16446.0     United Kingdom  PAPER CRAFT , LITTLE BIRDIE      2.08       210587.00     1\n",
       "Name: count, dtype: int64"
      ]
     },
     "execution_count": 98,
     "metadata": {},
     "output_type": "execute_result"
    }
   ],
   "source": [
    "s[s['StockCode'].isin(top10_items['StockCode'])].value_counts()"
   ]
  },
  {
   "cell_type": "code",
   "execution_count": 99,
   "metadata": {},
   "outputs": [
    {
     "data": {
      "text/plain": [
       "StockCode\n",
       "23166     2\n",
       "23084     1\n",
       "85099B    1\n",
       "22492     1\n",
       "21212     1\n",
       "23843     1\n",
       "Name: count, dtype: int64"
      ]
     },
     "execution_count": 99,
     "metadata": {},
     "output_type": "execute_result"
    }
   ],
   "source": [
    "s[s['StockCode'].isin(top10_items['StockCode'])]['StockCode'].value_counts()"
   ]
  },
  {
   "cell_type": "markdown",
   "metadata": {},
   "source": [
    "Do the top 5 invoices contain any of the top 10 most ordered items?\n",
    "\n",
    "Yes, top 5 invoices contain 6 of the top 10 items"
   ]
  },
  {
   "cell_type": "markdown",
   "metadata": {},
   "source": [
    "### <span style=\"color:magenta\"> Q5. [30 points] Customer Analysis </span>\n",
    "1. Classify customers into segments based on the total revenue they have generated for the company.\n",
    " * low value: less than \\$1750  \n",
    " * medium value: between 1750 and 8250 dollars\n",
    " * high value: greater than \\$8250\n",
    "1. How many customers are in each segment? \n",
    "1. Using the pivot table function, create a table that displays the average order quantity of each stock code for a given segment.\n",
    "1. Are the items with the highest average order quantity generally the same across segments? Explain your reasoning. \n",
    "1. Choose three items and discuss any trends/differences you notice across the three segments.\n",
    "\n",
    "_Hint: When calculating the segment, we suggest constructing a new dataframe as an intermediary step with the columns: CustomerID, Revenue, Segment._"
   ]
  },
  {
   "cell_type": "code",
   "execution_count": 100,
   "metadata": {},
   "outputs": [],
   "source": [
    "total_revenue = all_table.groupby('CustomerID')['TotalPrice'].sum().sort_values(ascending= False)\n",
    "total_revenue = pd.DataFrame(total_revenue)\n",
    "total_revenue.columns = ['TotalRevenue']"
   ]
  },
  {
   "cell_type": "code",
   "execution_count": 101,
   "metadata": {},
   "outputs": [],
   "source": [
    "total_revenue['segment'] = total_revenue['TotalRevenue'].apply(lambda x: 'high value' if x > 8250 else 'medium value' if x >= 1750 else 'low value')"
   ]
  },
  {
   "cell_type": "code",
   "execution_count": 102,
   "metadata": {},
   "outputs": [
    {
     "data": {
      "text/html": [
       "<div>\n",
       "<style scoped>\n",
       "    .dataframe tbody tr th:only-of-type {\n",
       "        vertical-align: middle;\n",
       "    }\n",
       "\n",
       "    .dataframe tbody tr th {\n",
       "        vertical-align: top;\n",
       "    }\n",
       "\n",
       "    .dataframe thead th {\n",
       "        text-align: right;\n",
       "    }\n",
       "</style>\n",
       "<table border=\"1\" class=\"dataframe\">\n",
       "  <thead>\n",
       "    <tr style=\"text-align: right;\">\n",
       "      <th></th>\n",
       "      <th>TotalRevenue</th>\n",
       "      <th>segment</th>\n",
       "    </tr>\n",
       "    <tr>\n",
       "      <th>CustomerID</th>\n",
       "      <th></th>\n",
       "      <th></th>\n",
       "    </tr>\n",
       "  </thead>\n",
       "  <tbody>\n",
       "    <tr>\n",
       "      <th>18102.0</th>\n",
       "      <td>510949.9500</td>\n",
       "      <td>high value</td>\n",
       "    </tr>\n",
       "    <tr>\n",
       "      <th>14646.0</th>\n",
       "      <td>446913.8625</td>\n",
       "      <td>high value</td>\n",
       "    </tr>\n",
       "    <tr>\n",
       "      <th>17450.0</th>\n",
       "      <td>232746.2875</td>\n",
       "      <td>high value</td>\n",
       "    </tr>\n",
       "    <tr>\n",
       "      <th>14911.0</th>\n",
       "      <td>228496.5500</td>\n",
       "      <td>high value</td>\n",
       "    </tr>\n",
       "    <tr>\n",
       "      <th>16446.0</th>\n",
       "      <td>210590.6250</td>\n",
       "      <td>high value</td>\n",
       "    </tr>\n",
       "    <tr>\n",
       "      <th>...</th>\n",
       "      <td>...</td>\n",
       "      <td>...</td>\n",
       "    </tr>\n",
       "    <tr>\n",
       "      <th>14792.0</th>\n",
       "      <td>10.5750</td>\n",
       "      <td>low value</td>\n",
       "    </tr>\n",
       "    <tr>\n",
       "      <th>16738.0</th>\n",
       "      <td>4.6875</td>\n",
       "      <td>low value</td>\n",
       "    </tr>\n",
       "    <tr>\n",
       "      <th>15802.0</th>\n",
       "      <td>1.5625</td>\n",
       "      <td>low value</td>\n",
       "    </tr>\n",
       "    <tr>\n",
       "      <th>16742.0</th>\n",
       "      <td>1.5625</td>\n",
       "      <td>low value</td>\n",
       "    </tr>\n",
       "    <tr>\n",
       "      <th>17846.0</th>\n",
       "      <td>1.5625</td>\n",
       "      <td>low value</td>\n",
       "    </tr>\n",
       "  </tbody>\n",
       "</table>\n",
       "<p>4339 rows × 2 columns</p>\n",
       "</div>"
      ],
      "text/plain": [
       "            TotalRevenue     segment\n",
       "CustomerID                          \n",
       "18102.0      510949.9500  high value\n",
       "14646.0      446913.8625  high value\n",
       "17450.0      232746.2875  high value\n",
       "14911.0      228496.5500  high value\n",
       "16446.0      210590.6250  high value\n",
       "...                  ...         ...\n",
       "14792.0          10.5750   low value\n",
       "16738.0           4.6875   low value\n",
       "15802.0           1.5625   low value\n",
       "16742.0           1.5625   low value\n",
       "17846.0           1.5625   low value\n",
       "\n",
       "[4339 rows x 2 columns]"
      ]
     },
     "execution_count": 102,
     "metadata": {},
     "output_type": "execute_result"
    }
   ],
   "source": [
    "total_revenue"
   ]
  },
  {
   "cell_type": "code",
   "execution_count": 103,
   "metadata": {},
   "outputs": [],
   "source": [
    "all_table_seg = pd.merge(all_table, total_revenue, on='CustomerID', how='inner')"
   ]
  },
  {
   "cell_type": "code",
   "execution_count": 104,
   "metadata": {},
   "outputs": [
    {
     "data": {
      "text/html": [
       "<div>\n",
       "<style scoped>\n",
       "    .dataframe tbody tr th:only-of-type {\n",
       "        vertical-align: middle;\n",
       "    }\n",
       "\n",
       "    .dataframe tbody tr th {\n",
       "        vertical-align: top;\n",
       "    }\n",
       "\n",
       "    .dataframe thead th {\n",
       "        text-align: right;\n",
       "    }\n",
       "</style>\n",
       "<table border=\"1\" class=\"dataframe\">\n",
       "  <thead>\n",
       "    <tr style=\"text-align: right;\">\n",
       "      <th></th>\n",
       "      <th>InvoiceNo</th>\n",
       "      <th>StockCodeSC</th>\n",
       "      <th>Quantity</th>\n",
       "      <th>StockCode</th>\n",
       "      <th>InvoiceDate</th>\n",
       "      <th>CustomerID</th>\n",
       "      <th>Country</th>\n",
       "      <th>Description</th>\n",
       "      <th>UnitPrice</th>\n",
       "      <th>TotalPrice</th>\n",
       "      <th>TotalRevenue</th>\n",
       "      <th>segment</th>\n",
       "    </tr>\n",
       "  </thead>\n",
       "  <tbody>\n",
       "    <tr>\n",
       "      <th>0</th>\n",
       "      <td>536365</td>\n",
       "      <td>SC85123A</td>\n",
       "      <td>6</td>\n",
       "      <td>85123A</td>\n",
       "      <td>12/1/10 8:26</td>\n",
       "      <td>17850.0</td>\n",
       "      <td>United Kingdom</td>\n",
       "      <td>WHITE HANGING HEART T-LIGHT HOLDER</td>\n",
       "      <td>2.55</td>\n",
       "      <td>19.125</td>\n",
       "      <td>6785.5125</td>\n",
       "      <td>medium value</td>\n",
       "    </tr>\n",
       "    <tr>\n",
       "      <th>1</th>\n",
       "      <td>536365</td>\n",
       "      <td>SC71053</td>\n",
       "      <td>6</td>\n",
       "      <td>71053</td>\n",
       "      <td>12/1/10 8:26</td>\n",
       "      <td>17850.0</td>\n",
       "      <td>United Kingdom</td>\n",
       "      <td>WHITE METAL LANTERN</td>\n",
       "      <td>3.39</td>\n",
       "      <td>25.425</td>\n",
       "      <td>6785.5125</td>\n",
       "      <td>medium value</td>\n",
       "    </tr>\n",
       "    <tr>\n",
       "      <th>2</th>\n",
       "      <td>536365</td>\n",
       "      <td>SC84406B</td>\n",
       "      <td>8</td>\n",
       "      <td>84406B</td>\n",
       "      <td>12/1/10 8:26</td>\n",
       "      <td>17850.0</td>\n",
       "      <td>United Kingdom</td>\n",
       "      <td>CREAM CUPID HEARTS COAT HANGER</td>\n",
       "      <td>2.75</td>\n",
       "      <td>27.500</td>\n",
       "      <td>6785.5125</td>\n",
       "      <td>medium value</td>\n",
       "    </tr>\n",
       "    <tr>\n",
       "      <th>3</th>\n",
       "      <td>536365</td>\n",
       "      <td>SC84029G</td>\n",
       "      <td>6</td>\n",
       "      <td>84029G</td>\n",
       "      <td>12/1/10 8:26</td>\n",
       "      <td>17850.0</td>\n",
       "      <td>United Kingdom</td>\n",
       "      <td>KNITTED UNION FLAG HOT WATER BOTTLE</td>\n",
       "      <td>3.39</td>\n",
       "      <td>25.425</td>\n",
       "      <td>6785.5125</td>\n",
       "      <td>medium value</td>\n",
       "    </tr>\n",
       "    <tr>\n",
       "      <th>4</th>\n",
       "      <td>536365</td>\n",
       "      <td>SC84029E</td>\n",
       "      <td>6</td>\n",
       "      <td>84029E</td>\n",
       "      <td>12/1/10 8:26</td>\n",
       "      <td>17850.0</td>\n",
       "      <td>United Kingdom</td>\n",
       "      <td>RED WOOLLY HOTTIE WHITE HEART.</td>\n",
       "      <td>3.39</td>\n",
       "      <td>25.425</td>\n",
       "      <td>6785.5125</td>\n",
       "      <td>medium value</td>\n",
       "    </tr>\n",
       "  </tbody>\n",
       "</table>\n",
       "</div>"
      ],
      "text/plain": [
       "  InvoiceNo StockCodeSC  Quantity StockCode   InvoiceDate  CustomerID  \\\n",
       "0    536365    SC85123A         6    85123A  12/1/10 8:26     17850.0   \n",
       "1    536365     SC71053         6     71053  12/1/10 8:26     17850.0   \n",
       "2    536365    SC84406B         8    84406B  12/1/10 8:26     17850.0   \n",
       "3    536365    SC84029G         6    84029G  12/1/10 8:26     17850.0   \n",
       "4    536365    SC84029E         6    84029E  12/1/10 8:26     17850.0   \n",
       "\n",
       "          Country                          Description  UnitPrice  TotalPrice  \\\n",
       "0  United Kingdom   WHITE HANGING HEART T-LIGHT HOLDER       2.55      19.125   \n",
       "1  United Kingdom                  WHITE METAL LANTERN       3.39      25.425   \n",
       "2  United Kingdom       CREAM CUPID HEARTS COAT HANGER       2.75      27.500   \n",
       "3  United Kingdom  KNITTED UNION FLAG HOT WATER BOTTLE       3.39      25.425   \n",
       "4  United Kingdom       RED WOOLLY HOTTIE WHITE HEART.       3.39      25.425   \n",
       "\n",
       "   TotalRevenue       segment  \n",
       "0     6785.5125  medium value  \n",
       "1     6785.5125  medium value  \n",
       "2     6785.5125  medium value  \n",
       "3     6785.5125  medium value  \n",
       "4     6785.5125  medium value  "
      ]
     },
     "execution_count": 104,
     "metadata": {},
     "output_type": "execute_result"
    }
   ],
   "source": [
    "all_table_seg[all_table_seg['TotalRevenue'] == 'high value'].groupby('Description')['Quantity'].sum().sort_values(ascending= False).head(10)\n",
    "\n",
    "all_table_seg.head()"
   ]
  },
  {
   "cell_type": "code",
   "execution_count": 105,
   "metadata": {},
   "outputs": [
    {
     "data": {
      "text/plain": [
       "segment\n",
       "low value       2846\n",
       "medium value    1255\n",
       "high value       238\n",
       "Name: count, dtype: int64"
      ]
     },
     "execution_count": 105,
     "metadata": {},
     "output_type": "execute_result"
    }
   ],
   "source": [
    "total_revenue.segment.value_counts()"
   ]
  },
  {
   "cell_type": "markdown",
   "metadata": {},
   "source": [
    "Using the pivot table function, create a table that displays the average order quantity of each stock code for a given segment."
   ]
  },
  {
   "cell_type": "code",
   "execution_count": 106,
   "metadata": {},
   "outputs": [
    {
     "data": {
      "text/html": [
       "<div>\n",
       "<style scoped>\n",
       "    .dataframe tbody tr th:only-of-type {\n",
       "        vertical-align: middle;\n",
       "    }\n",
       "\n",
       "    .dataframe tbody tr th {\n",
       "        vertical-align: top;\n",
       "    }\n",
       "\n",
       "    .dataframe thead th {\n",
       "        text-align: right;\n",
       "    }\n",
       "</style>\n",
       "<table border=\"1\" class=\"dataframe\">\n",
       "  <thead>\n",
       "    <tr style=\"text-align: right;\">\n",
       "      <th>segment</th>\n",
       "      <th>high value</th>\n",
       "      <th>low value</th>\n",
       "      <th>medium value</th>\n",
       "    </tr>\n",
       "    <tr>\n",
       "      <th>StockCode</th>\n",
       "      <th></th>\n",
       "      <th></th>\n",
       "      <th></th>\n",
       "    </tr>\n",
       "  </thead>\n",
       "  <tbody>\n",
       "    <tr>\n",
       "      <th>10002</th>\n",
       "      <td>33.200000</td>\n",
       "      <td>8.222222</td>\n",
       "      <td>10.040000</td>\n",
       "    </tr>\n",
       "    <tr>\n",
       "      <th>10080</th>\n",
       "      <td>7.000000</td>\n",
       "      <td>11.000000</td>\n",
       "      <td>15.857143</td>\n",
       "    </tr>\n",
       "    <tr>\n",
       "      <th>10120</th>\n",
       "      <td>2.333333</td>\n",
       "      <td>4.692308</td>\n",
       "      <td>8.928571</td>\n",
       "    </tr>\n",
       "    <tr>\n",
       "      <th>10123C</th>\n",
       "      <td>NaN</td>\n",
       "      <td>2.000000</td>\n",
       "      <td>1.000000</td>\n",
       "    </tr>\n",
       "    <tr>\n",
       "      <th>10124A</th>\n",
       "      <td>NaN</td>\n",
       "      <td>3.500000</td>\n",
       "      <td>3.000000</td>\n",
       "    </tr>\n",
       "    <tr>\n",
       "      <th>...</th>\n",
       "      <td>...</td>\n",
       "      <td>...</td>\n",
       "      <td>...</td>\n",
       "    </tr>\n",
       "    <tr>\n",
       "      <th>C2</th>\n",
       "      <td>1.000000</td>\n",
       "      <td>1.040000</td>\n",
       "      <td>1.000000</td>\n",
       "    </tr>\n",
       "    <tr>\n",
       "      <th>DOT</th>\n",
       "      <td>1.000000</td>\n",
       "      <td>NaN</td>\n",
       "      <td>NaN</td>\n",
       "    </tr>\n",
       "    <tr>\n",
       "      <th>M</th>\n",
       "      <td>69.870588</td>\n",
       "      <td>5.489583</td>\n",
       "      <td>6.541284</td>\n",
       "    </tr>\n",
       "    <tr>\n",
       "      <th>PADS</th>\n",
       "      <td>1.000000</td>\n",
       "      <td>1.000000</td>\n",
       "      <td>1.000000</td>\n",
       "    </tr>\n",
       "    <tr>\n",
       "      <th>POST</th>\n",
       "      <td>3.627451</td>\n",
       "      <td>1.975862</td>\n",
       "      <td>2.927798</td>\n",
       "    </tr>\n",
       "  </tbody>\n",
       "</table>\n",
       "<p>3665 rows × 3 columns</p>\n",
       "</div>"
      ],
      "text/plain": [
       "segment    high value  low value  medium value\n",
       "StockCode                                     \n",
       "10002       33.200000   8.222222     10.040000\n",
       "10080        7.000000  11.000000     15.857143\n",
       "10120        2.333333   4.692308      8.928571\n",
       "10123C            NaN   2.000000      1.000000\n",
       "10124A            NaN   3.500000      3.000000\n",
       "...               ...        ...           ...\n",
       "C2           1.000000   1.040000      1.000000\n",
       "DOT          1.000000        NaN           NaN\n",
       "M           69.870588   5.489583      6.541284\n",
       "PADS         1.000000   1.000000      1.000000\n",
       "POST         3.627451   1.975862      2.927798\n",
       "\n",
       "[3665 rows x 3 columns]"
      ]
     },
     "execution_count": 106,
     "metadata": {},
     "output_type": "execute_result"
    }
   ],
   "source": [
    "p = all_table_seg.pivot_table(index='StockCode',columns='segment',values='Quantity',aggfunc='mean')\n",
    "p"
   ]
  },
  {
   "cell_type": "markdown",
   "metadata": {},
   "source": [
    "Are the items with the highest average order quantity generally the same across segments? Explain your reasoning. "
   ]
  },
  {
   "cell_type": "code",
   "execution_count": 107,
   "metadata": {},
   "outputs": [
    {
     "data": {
      "text/html": [
       "<div>\n",
       "<style scoped>\n",
       "    .dataframe tbody tr th:only-of-type {\n",
       "        vertical-align: middle;\n",
       "    }\n",
       "\n",
       "    .dataframe tbody tr th {\n",
       "        vertical-align: top;\n",
       "    }\n",
       "\n",
       "    .dataframe thead th {\n",
       "        text-align: right;\n",
       "    }\n",
       "</style>\n",
       "<table border=\"1\" class=\"dataframe\">\n",
       "  <thead>\n",
       "    <tr style=\"text-align: right;\">\n",
       "      <th>segment</th>\n",
       "      <th>high value</th>\n",
       "      <th>low value</th>\n",
       "      <th>medium value</th>\n",
       "    </tr>\n",
       "    <tr>\n",
       "      <th>StockCode</th>\n",
       "      <th></th>\n",
       "      <th></th>\n",
       "      <th></th>\n",
       "    </tr>\n",
       "  </thead>\n",
       "  <tbody>\n",
       "    <tr>\n",
       "      <th>23843</th>\n",
       "      <td>80995.000000</td>\n",
       "      <td>NaN</td>\n",
       "      <td>NaN</td>\n",
       "    </tr>\n",
       "    <tr>\n",
       "      <th>84826</th>\n",
       "      <td>2556.000000</td>\n",
       "      <td>15.846154</td>\n",
       "      <td>39.777778</td>\n",
       "    </tr>\n",
       "    <tr>\n",
       "      <th>47556B</th>\n",
       "      <td>1300.000000</td>\n",
       "      <td>NaN</td>\n",
       "      <td>NaN</td>\n",
       "    </tr>\n",
       "    <tr>\n",
       "      <th>23166</th>\n",
       "      <td>912.952381</td>\n",
       "      <td>10.647059</td>\n",
       "      <td>10.873016</td>\n",
       "    </tr>\n",
       "    <tr>\n",
       "      <th>84568</th>\n",
       "      <td>840.000000</td>\n",
       "      <td>452.571429</td>\n",
       "      <td>288.000000</td>\n",
       "    </tr>\n",
       "    <tr>\n",
       "      <th>84422</th>\n",
       "      <td>480.000000</td>\n",
       "      <td>9.500000</td>\n",
       "      <td>11.000000</td>\n",
       "    </tr>\n",
       "    <tr>\n",
       "      <th>16033</th>\n",
       "      <td>480.000000</td>\n",
       "      <td>NaN</td>\n",
       "      <td>120.000000</td>\n",
       "    </tr>\n",
       "    <tr>\n",
       "      <th>17003</th>\n",
       "      <td>266.975610</td>\n",
       "      <td>69.242857</td>\n",
       "      <td>73.163265</td>\n",
       "    </tr>\n",
       "    <tr>\n",
       "      <th>16216</th>\n",
       "      <td>261.125000</td>\n",
       "      <td>44.687500</td>\n",
       "      <td>30.117647</td>\n",
       "    </tr>\n",
       "    <tr>\n",
       "      <th>84077</th>\n",
       "      <td>250.787037</td>\n",
       "      <td>53.772277</td>\n",
       "      <td>82.950758</td>\n",
       "    </tr>\n",
       "  </tbody>\n",
       "</table>\n",
       "</div>"
      ],
      "text/plain": [
       "segment      high value   low value  medium value\n",
       "StockCode                                        \n",
       "23843      80995.000000         NaN           NaN\n",
       "84826       2556.000000   15.846154     39.777778\n",
       "47556B      1300.000000         NaN           NaN\n",
       "23166        912.952381   10.647059     10.873016\n",
       "84568        840.000000  452.571429    288.000000\n",
       "84422        480.000000    9.500000     11.000000\n",
       "16033        480.000000         NaN    120.000000\n",
       "17003        266.975610   69.242857     73.163265\n",
       "16216        261.125000   44.687500     30.117647\n",
       "84077        250.787037   53.772277     82.950758"
      ]
     },
     "execution_count": 107,
     "metadata": {},
     "output_type": "execute_result"
    }
   ],
   "source": [
    "p.sort_values(by='high value',ascending=False).head(10)"
   ]
  },
  {
   "cell_type": "code",
   "execution_count": 108,
   "metadata": {},
   "outputs": [
    {
     "data": {
      "text/html": [
       "<div>\n",
       "<style scoped>\n",
       "    .dataframe tbody tr th:only-of-type {\n",
       "        vertical-align: middle;\n",
       "    }\n",
       "\n",
       "    .dataframe tbody tr th {\n",
       "        vertical-align: top;\n",
       "    }\n",
       "\n",
       "    .dataframe thead th {\n",
       "        text-align: right;\n",
       "    }\n",
       "</style>\n",
       "<table border=\"1\" class=\"dataframe\">\n",
       "  <thead>\n",
       "    <tr style=\"text-align: right;\">\n",
       "      <th>segment</th>\n",
       "      <th>high value</th>\n",
       "      <th>low value</th>\n",
       "      <th>medium value</th>\n",
       "    </tr>\n",
       "    <tr>\n",
       "      <th>StockCode</th>\n",
       "      <th></th>\n",
       "      <th></th>\n",
       "      <th></th>\n",
       "    </tr>\n",
       "  </thead>\n",
       "  <tbody>\n",
       "    <tr>\n",
       "      <th>18007</th>\n",
       "      <td>24.000000</td>\n",
       "      <td>16.000000</td>\n",
       "      <td>710.000000</td>\n",
       "    </tr>\n",
       "    <tr>\n",
       "      <th>16014</th>\n",
       "      <td>23.285714</td>\n",
       "      <td>19.571429</td>\n",
       "      <td>390.636364</td>\n",
       "    </tr>\n",
       "    <tr>\n",
       "      <th>84598</th>\n",
       "      <td>192.000000</td>\n",
       "      <td>288.000000</td>\n",
       "      <td>288.000000</td>\n",
       "    </tr>\n",
       "    <tr>\n",
       "      <th>84568</th>\n",
       "      <td>840.000000</td>\n",
       "      <td>452.571429</td>\n",
       "      <td>288.000000</td>\n",
       "    </tr>\n",
       "    <tr>\n",
       "      <th>22053</th>\n",
       "      <td>24.250000</td>\n",
       "      <td>10.000000</td>\n",
       "      <td>285.857143</td>\n",
       "    </tr>\n",
       "    <tr>\n",
       "      <th>21785</th>\n",
       "      <td>1.000000</td>\n",
       "      <td>NaN</td>\n",
       "      <td>204.000000</td>\n",
       "    </tr>\n",
       "    <tr>\n",
       "      <th>62018</th>\n",
       "      <td>10.578947</td>\n",
       "      <td>34.533333</td>\n",
       "      <td>147.320000</td>\n",
       "    </tr>\n",
       "    <tr>\n",
       "      <th>16049</th>\n",
       "      <td>90.000000</td>\n",
       "      <td>90.000000</td>\n",
       "      <td>144.000000</td>\n",
       "    </tr>\n",
       "    <tr>\n",
       "      <th>75131</th>\n",
       "      <td>6.500000</td>\n",
       "      <td>9.750000</td>\n",
       "      <td>132.333333</td>\n",
       "    </tr>\n",
       "    <tr>\n",
       "      <th>79164</th>\n",
       "      <td>97.000000</td>\n",
       "      <td>7.428571</td>\n",
       "      <td>129.750000</td>\n",
       "    </tr>\n",
       "  </tbody>\n",
       "</table>\n",
       "</div>"
      ],
      "text/plain": [
       "segment    high value   low value  medium value\n",
       "StockCode                                      \n",
       "18007       24.000000   16.000000    710.000000\n",
       "16014       23.285714   19.571429    390.636364\n",
       "84598      192.000000  288.000000    288.000000\n",
       "84568      840.000000  452.571429    288.000000\n",
       "22053       24.250000   10.000000    285.857143\n",
       "21785        1.000000         NaN    204.000000\n",
       "62018       10.578947   34.533333    147.320000\n",
       "16049       90.000000   90.000000    144.000000\n",
       "75131        6.500000    9.750000    132.333333\n",
       "79164       97.000000    7.428571    129.750000"
      ]
     },
     "execution_count": 108,
     "metadata": {},
     "output_type": "execute_result"
    }
   ],
   "source": [
    "p.sort_values(by='medium value',ascending=False).head(10)"
   ]
  },
  {
   "cell_type": "code",
   "execution_count": 109,
   "metadata": {},
   "outputs": [
    {
     "data": {
      "text/html": [
       "<div>\n",
       "<style scoped>\n",
       "    .dataframe tbody tr th:only-of-type {\n",
       "        vertical-align: middle;\n",
       "    }\n",
       "\n",
       "    .dataframe tbody tr th {\n",
       "        vertical-align: top;\n",
       "    }\n",
       "\n",
       "    .dataframe thead th {\n",
       "        text-align: right;\n",
       "    }\n",
       "</style>\n",
       "<table border=\"1\" class=\"dataframe\">\n",
       "  <thead>\n",
       "    <tr style=\"text-align: right;\">\n",
       "      <th>segment</th>\n",
       "      <th>high value</th>\n",
       "      <th>low value</th>\n",
       "      <th>medium value</th>\n",
       "    </tr>\n",
       "    <tr>\n",
       "      <th>StockCode</th>\n",
       "      <th></th>\n",
       "      <th></th>\n",
       "      <th></th>\n",
       "    </tr>\n",
       "  </thead>\n",
       "  <tbody>\n",
       "    <tr>\n",
       "      <th>17096</th>\n",
       "      <td>96.000000</td>\n",
       "      <td>516.750000</td>\n",
       "      <td>36.714286</td>\n",
       "    </tr>\n",
       "    <tr>\n",
       "      <th>84568</th>\n",
       "      <td>840.000000</td>\n",
       "      <td>452.571429</td>\n",
       "      <td>288.000000</td>\n",
       "    </tr>\n",
       "    <tr>\n",
       "      <th>84598</th>\n",
       "      <td>192.000000</td>\n",
       "      <td>288.000000</td>\n",
       "      <td>288.000000</td>\n",
       "    </tr>\n",
       "    <tr>\n",
       "      <th>16045</th>\n",
       "      <td>131.250000</td>\n",
       "      <td>151.851852</td>\n",
       "      <td>103.846154</td>\n",
       "    </tr>\n",
       "    <tr>\n",
       "      <th>16259</th>\n",
       "      <td>124.571429</td>\n",
       "      <td>122.833333</td>\n",
       "      <td>86.166667</td>\n",
       "    </tr>\n",
       "    <tr>\n",
       "      <th>17084R</th>\n",
       "      <td>248.000000</td>\n",
       "      <td>120.000000</td>\n",
       "      <td>80.000000</td>\n",
       "    </tr>\n",
       "    <tr>\n",
       "      <th>16049</th>\n",
       "      <td>90.000000</td>\n",
       "      <td>90.000000</td>\n",
       "      <td>144.000000</td>\n",
       "    </tr>\n",
       "    <tr>\n",
       "      <th>21641</th>\n",
       "      <td>32.222222</td>\n",
       "      <td>79.000000</td>\n",
       "      <td>30.000000</td>\n",
       "    </tr>\n",
       "    <tr>\n",
       "      <th>17001</th>\n",
       "      <td>NaN</td>\n",
       "      <td>72.000000</td>\n",
       "      <td>NaN</td>\n",
       "    </tr>\n",
       "    <tr>\n",
       "      <th>17003</th>\n",
       "      <td>266.975610</td>\n",
       "      <td>69.242857</td>\n",
       "      <td>73.163265</td>\n",
       "    </tr>\n",
       "  </tbody>\n",
       "</table>\n",
       "</div>"
      ],
      "text/plain": [
       "segment    high value   low value  medium value\n",
       "StockCode                                      \n",
       "17096       96.000000  516.750000     36.714286\n",
       "84568      840.000000  452.571429    288.000000\n",
       "84598      192.000000  288.000000    288.000000\n",
       "16045      131.250000  151.851852    103.846154\n",
       "16259      124.571429  122.833333     86.166667\n",
       "17084R     248.000000  120.000000     80.000000\n",
       "16049       90.000000   90.000000    144.000000\n",
       "21641       32.222222   79.000000     30.000000\n",
       "17001             NaN   72.000000           NaN\n",
       "17003      266.975610   69.242857     73.163265"
      ]
     },
     "execution_count": 109,
     "metadata": {},
     "output_type": "execute_result"
    }
   ],
   "source": [
    "p.sort_values(by='low value',ascending=False).head(10)"
   ]
  },
  {
   "cell_type": "markdown",
   "metadata": {},
   "source": [
    "Explanation: The items with the highest average order quantity are not the same in different market segments. : In the \"high value\" segment, the product with the highest average order quantity is the product with StockCode 23843, and the average quantity is 80995.\n",
    "In the \"medium value\" segment, the product with the highest average order quantity is the product with StockCode 18007, and the average quantity is 710.\n",
    "In the \"low value\" segment, the product with the highest average order quantity is the product with StockCode 17096, and the average quantity is 516.75"
   ]
  },
  {
   "cell_type": "markdown",
   "metadata": {},
   "source": [
    "Choose three items and discuss any trends/differences you notice across the three segments."
   ]
  },
  {
   "cell_type": "markdown",
   "metadata": {},
   "source": [
    "item 1: \n",
    "\n",
    "StockCode: 84826 \n",
    "\n",
    "Description : ASSTD DESIGN 3D PAPER STICKERS"
   ]
  },
  {
   "cell_type": "code",
   "execution_count": 110,
   "metadata": {},
   "outputs": [
    {
     "data": {
      "text/plain": [
       "Description\n",
       "ESSENTIAL BALM 3.5g TIN IN ENVELOPE    18\n",
       "Name: count, dtype: int64"
      ]
     },
     "execution_count": 110,
     "metadata": {},
     "output_type": "execute_result"
    }
   ],
   "source": [
    "all_table_seg[all_table_seg['StockCode'] == '18007']['Description'].value_counts()"
   ]
  },
  {
   "cell_type": "code",
   "execution_count": 111,
   "metadata": {},
   "outputs": [
    {
     "data": {
      "text/plain": [
       "segment\n",
       "high value      12780\n",
       "low value         206\n",
       "medium value      716\n",
       "Name: Quantity, dtype: int64"
      ]
     },
     "execution_count": 111,
     "metadata": {},
     "output_type": "execute_result"
    }
   ],
   "source": [
    "all_table_seg[all_table_seg['StockCode'] == '84826'].groupby('segment')['Quantity'].sum()\n"
   ]
  },
  {
   "cell_type": "code",
   "execution_count": 112,
   "metadata": {},
   "outputs": [
    {
     "data": {
      "text/plain": [
       "UnitPrice\n",
       "0.85    36\n",
       "Name: count, dtype: int64"
      ]
     },
     "execution_count": 112,
     "metadata": {},
     "output_type": "execute_result"
    }
   ],
   "source": [
    "all_table_seg[all_table_seg['StockCode'] == '84826']['UnitPrice'].value_counts()"
   ]
  },
  {
   "cell_type": "markdown",
   "metadata": {},
   "source": [
    " The quantity for this item is significantly higher in the high value segment, with a total quantity of 12780. This suggests that customers in this segment are either buying in bulk or this item is particularly popular among high value customers."
   ]
  },
  {
   "cell_type": "markdown",
   "metadata": {},
   "source": [
    "item 2:\n",
    "\n",
    "StockCode: 18007 \n",
    "\n",
    "Description : ESSENTIAL BALM 3.5g TIN IN ENVELOPE"
   ]
  },
  {
   "cell_type": "code",
   "execution_count": 113,
   "metadata": {},
   "outputs": [
    {
     "data": {
      "text/plain": [
       "Description\n",
       "ESSENTIAL BALM 3.5g TIN IN ENVELOPE    18\n",
       "Name: count, dtype: int64"
      ]
     },
     "execution_count": 113,
     "metadata": {},
     "output_type": "execute_result"
    }
   ],
   "source": [
    "all_table_seg[all_table_seg['StockCode'] == '18007']['Description'].value_counts()"
   ]
  },
  {
   "cell_type": "code",
   "execution_count": 114,
   "metadata": {},
   "outputs": [
    {
     "data": {
      "text/plain": [
       "segment\n",
       "high value        48\n",
       "low value        128\n",
       "medium value    5680\n",
       "Name: Quantity, dtype: int64"
      ]
     },
     "execution_count": 114,
     "metadata": {},
     "output_type": "execute_result"
    }
   ],
   "source": [
    "all_table_seg[all_table_seg['StockCode'] == '18007'].groupby('segment')['Quantity'].sum()"
   ]
  },
  {
   "cell_type": "code",
   "execution_count": 115,
   "metadata": {},
   "outputs": [
    {
     "data": {
      "text/plain": [
       "UnitPrice\n",
       "0.18    18\n",
       "Name: count, dtype: int64"
      ]
     },
     "execution_count": 115,
     "metadata": {},
     "output_type": "execute_result"
    }
   ],
   "source": [
    "\n",
    "all_table_seg[all_table_seg['StockCode'] == '18007']['UnitPrice'].value_counts()"
   ]
  },
  {
   "cell_type": "markdown",
   "metadata": {},
   "source": [
    "This item has a maximum quantity of 5680 in the mediem value segment."
   ]
  },
  {
   "cell_type": "markdown",
   "metadata": {},
   "source": [
    "item 3:\n",
    "\n",
    "StockCode: 17096 \n",
    "\n",
    "Description : ESSENTIAL BALM 3.5g TIN IN ENVELOPE"
   ]
  },
  {
   "cell_type": "code",
   "execution_count": 116,
   "metadata": {},
   "outputs": [
    {
     "data": {
      "text/plain": [
       "Description\n",
       "ASSORTED LAQUERED INCENSE HOLDERS    13\n",
       "Name: count, dtype: int64"
      ]
     },
     "execution_count": 116,
     "metadata": {},
     "output_type": "execute_result"
    }
   ],
   "source": [
    "all_table_seg[all_table_seg['StockCode'] == '17096']['Description'].value_counts()"
   ]
  },
  {
   "cell_type": "code",
   "execution_count": 117,
   "metadata": {},
   "outputs": [
    {
     "data": {
      "text/plain": [
       "segment\n",
       "high value       192\n",
       "low value       2067\n",
       "medium value     257\n",
       "Name: Quantity, dtype: int64"
      ]
     },
     "execution_count": 117,
     "metadata": {},
     "output_type": "execute_result"
    }
   ],
   "source": [
    "all_table_seg[all_table_seg['StockCode'] == '17096'].groupby('segment')['Quantity'].sum()\n"
   ]
  },
  {
   "cell_type": "code",
   "execution_count": 118,
   "metadata": {},
   "outputs": [
    {
     "data": {
      "text/plain": [
       "UnitPrice\n",
       "0.43    13\n",
       "Name: count, dtype: int64"
      ]
     },
     "execution_count": 118,
     "metadata": {},
     "output_type": "execute_result"
    }
   ],
   "source": [
    "all_table_seg[all_table_seg['StockCode'] == '17096']['UnitPrice'].value_counts()"
   ]
  },
  {
   "cell_type": "markdown",
   "metadata": {},
   "source": [
    "This item has a maximum quantity of 2067 in the low value segment."
   ]
  },
  {
   "cell_type": "markdown",
   "metadata": {},
   "source": [
    "# Please submit your completed notebook in .IPYNB and .HTML formats via Canvas"
   ]
  },
  {
   "cell_type": "code",
   "execution_count": null,
   "metadata": {},
   "outputs": [],
   "source": []
  }
 ],
 "metadata": {
  "kernelspec": {
   "display_name": "Python 3 (ipykernel)",
   "language": "python",
   "name": "python3"
  },
  "language_info": {
   "codemirror_mode": {
    "name": "ipython",
    "version": 3
   },
   "file_extension": ".py",
   "mimetype": "text/x-python",
   "name": "python",
   "nbconvert_exporter": "python",
   "pygments_lexer": "ipython3",
   "version": "3.11.3"
  }
 },
 "nbformat": 4,
 "nbformat_minor": 4
}
