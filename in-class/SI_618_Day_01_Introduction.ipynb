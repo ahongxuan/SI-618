{
 "cells": [
  {
   "attachments": {},
   "cell_type": "markdown",
   "metadata": {},
   "source": [
    "<H1>SI 618 Day 01 - Introduction</H1>\n",
    "Dr. Chris Teplovs, University of Michigan School of Information\n",
    "\n",
    "Copyright &copy; 2024.  This notebook may not be shared outside of the course without permission.\n",
    "\n",
    "This notebook is a very brief introduction to Jupyter notebooks.  We will use Jupyter notebooks for all of our work in this course.\n",
    "\n",
    "Notebook version 2024.01.10.4.CT"
   ]
  },
  {
   "attachments": {},
   "cell_type": "markdown",
   "metadata": {},
   "source": [
    "## Learning Objectives\n",
    "By the end of this class, you should:\n",
    "* confirm that you have a working Jupyter environment using Visual Studio Code (VS Code)\n",
    "* be able to open and edit a Jupyter notebook\n",
    "* be able to run a Jupyter notebook\n",
    "* have written your first code in this class\n",
    "* experimented with Copilot\n",
    "* have successfully submitted an assignment to Canvas"
   ]
  },
  {
   "attachments": {},
   "cell_type": "markdown",
   "metadata": {},
   "source": [
    "You will be working in this notebook. When we are done, you will submit this notebook in two formats: HTML and IPYNB"
   ]
  },
  {
   "attachments": {},
   "cell_type": "markdown",
   "metadata": {},
   "source": [
    "Jupyter notebooks consist of two main types of \"cells\" or \"blocks\" (I use those terms interchangeably): code and markdown.  There are other types, but we won't be using them in this course.  Code blocks contain (python) code, whereas markdown blocks contain text.  Use markdown blocks to create richer narratives around your code.\n",
    "\n",
    "For more information about what constitutes a good Jupyter notebook, please read Adam Rule, et al. [Ten simple rules for writing and sharing computational analyses in Jupyter Notebooks](https://journals.plos.org/ploscompbiol/article?id=10.1371/journal.pcbi.1007007).\n",
    "\n",
    "In this course, we also expect you to conform to the PEP-8 style guidelines:  [PEP 8 Style Guide for Python Code](https://pep8.org/). Adapted from the original Python Enhancement Proposal,  [PEP 8](https://peps.python.org/pep-0008/). You will earn fewer points for your assignments if you do not follow this style guide."
   ]
  },
  {
   "cell_type": "markdown",
   "metadata": {},
   "source": [
    "**Before you start**: Make sure you have selected your `.venv` Python environment.\n",
    "\n",
    "One of the first things we want to do in our notebooks is our `import`s.  We'll import two packages (or libraries, or modules) that we'll use a bit later in the notebook:\n"
   ]
  },
  {
   "cell_type": "code",
   "execution_count": 3,
   "metadata": {},
   "outputs": [],
   "source": [
    "import csv"
   ]
  },
  {
   "attachments": {},
   "cell_type": "markdown",
   "metadata": {},
   "source": [
    "### Challenge 1: Write code that prints out \"Hello, world!\" (don't overthink this one)"
   ]
  },
  {
   "cell_type": "code",
   "execution_count": 4,
   "metadata": {},
   "outputs": [
    {
     "name": "stdout",
     "output_type": "stream",
     "text": [
      "Hello world!\n"
     ]
    }
   ],
   "source": [
    "# insert your code here\n",
    "print(\"Hello world!\")"
   ]
  },
  {
   "attachments": {},
   "cell_type": "markdown",
   "metadata": {},
   "source": [
    "### Challenge 2: Sum of squares\n",
    "Create a function that calculates the sum of squares of any sequence of numbers.  Test it on the following values: 1,3,5,7,9.  The answer should be 165.  We'll improve the `assert` statement during class, but for now, just use it as shown."
   ]
  },
  {
   "cell_type": "code",
   "execution_count": 5,
   "metadata": {},
   "outputs": [],
   "source": [
    "def sum_of_squares(seq):\n",
    "    sum = 0\n",
    "    for i in seq:\n",
    "        sum = sum + i**2\n",
    "    return sum\n",
    "    \n",
    "\n",
    "assert sum_of_squares([1,3,5,7,9]) == 165"
   ]
  },
  {
   "cell_type": "markdown",
   "metadata": {},
   "source": [
    "### Challenge 3: Documentation\n",
    "Add documentation to the following function using docstrings and comments.  (Hint: see https://en.wikipedia.org/wiki/Fibonacci_sequence or leverage GitHub Copilot Chat.)"
   ]
  },
  {
   "cell_type": "code",
   "execution_count": 6,
   "metadata": {},
   "outputs": [],
   "source": [
    "# Febonacci sequence starts from 0,1, add up previous two number to get the next number \n",
    "\n",
    "\n",
    "def f(x):\n",
    "    \"\"\" return the xth Fibonacci number \"\"\"\n",
    "    if x == 0:\n",
    "        return 0\n",
    "    elif x == 1:\n",
    "        return 1\n",
    "    else:\n",
    "        return f(x-1) + f(x-2)"
   ]
  },
  {
   "cell_type": "markdown",
   "metadata": {},
   "source": [
    "#### Challenge 4: String manipulation, documentation and type hints\n",
    "Write a function that takes a string as input and returns the number of vowels in the string.  Test it on the following string: \"The quick brown fox jumped over the lazy dog.\"  The answer should be 11.  Document your function.  Include [type hints (see PEP-484)](https://peps.python.org/pep-0484/)."
   ]
  },
  {
   "cell_type": "code",
   "execution_count": 7,
   "metadata": {},
   "outputs": [],
   "source": [
    "def count_vowels(s):\n",
    "    return sum([s.count(c) for c in \"aeiou\"])\n",
    "    pass # replace this with your code\n",
    "\n",
    "assert count_vowels(\"hello\") == 2, f\"There are two vowels in hello, not {count_vowels('hello')}\"\n",
    "assert count_vowels(\"The quick brown fox jumped over the lazy dog\") == 12, f\"There are 11 vowels in the quick brown fox jumped over the lazy dog, not {count_vowels('The quick brown fox jumped over the lazy dog')}\"\n"
   ]
  },
  {
   "attachments": {},
   "cell_type": "markdown",
   "metadata": {},
   "source": [
    "### Challenge 5: Find the mode, write some tests.  \n",
    "The mode is the most frequently occurring value.  In the case where multiple modes, you only need to print one of them.  Document and typehint your code. Test your code with an assert statement for the following values: 1, 2, 3, 3, 4, 5, 5, 5, 6, 6, 7, 8, 9, 9, 10.\n",
    "\n",
    "Try to do this on your own without resorting to Googling for a solution."
   ]
  },
  {
   "cell_type": "code",
   "execution_count": 19,
   "metadata": {},
   "outputs": [],
   "source": [
    "from typing import List\n",
    "\n",
    "def find_mode(numbers: List[int]) -> int:\n",
    "    \"\"\"\n",
    "    Finds the mode of a list of numbers. \n",
    "    The mode is the most frequently occurring value.\n",
    "    In the case of multiple modes, only one is returned.\n",
    "\n",
    "    :param numbers: List of integers representing the dataset.\n",
    "    :return: An integer representing the mode of the list.\n",
    "    \"\"\"\n",
    "    frequency = {}  # Dictionary to store the frequency of each number\n",
    "    max_count = 0   # Variable to keep track of the maximum frequency\n",
    "    mode = None     # Variable to store the mode\n",
    "\n",
    "    # Iterate over the list to count the frequency of each number\n",
    "    for number in numbers:\n",
    "        if number in frequency:\n",
    "            frequency[number] += 1\n",
    "        else:\n",
    "            frequency[number] = 1\n",
    "\n",
    "        # Update mode if the current number's frequency is higher\n",
    "        if frequency[number] > max_count:\n",
    "            max_count = frequency[number]\n",
    "            mode = number\n",
    "\n",
    "    return mode\n",
    "\n",
    "assert find_mode([1, 2, 3, 3, 4, 5, 5, 5, 6, 6, 7, 8, 9, 9, 10]) == 5\n"
   ]
  },
  {
   "attachments": {},
   "cell_type": "markdown",
   "metadata": {},
   "source": [
    "### Challenge 6: Calculate the mean temperature for the data in aranet4.csv\n",
    "Your output should consist of the following:\n",
    "\n",
    "```Mean temperature: X.XX```\n",
    "\n",
    "where `X.XX` is the mean temperature rounded to two decimal places.  For example: 27.23 or 4.32 or -1.20.\n",
    "\n",
    "**NOTE: You should use only base python and the `csv` module to solve this problem.  Do not use pandas or any other libraries.**\n",
    "\n",
    "The data file should be located in the `data` directory that is a sibling of the directory containing this notebook.  For example, if this notebook is located in `SI_618_WN_24_Files/inclass`, then the data file should be located in `SI_618_WN_24_Files/data`."
   ]
  },
  {
   "cell_type": "code",
   "execution_count": 9,
   "metadata": {},
   "outputs": [],
   "source": [
    "filename = '../data/aranet4.csv'"
   ]
  },
  {
   "cell_type": "code",
   "execution_count": 10,
   "metadata": {},
   "outputs": [],
   "source": [
    "def aranet_mean_temp(filename):\n",
    "    with open(filename, newline='') as csvfile:\n",
    "        reader = csv.DictReader(csvfile)\n",
    "        temps = [float(row['Temperature(°C)'])for row in reader]\n",
    "        return round(sum(temps) / len(temps), 2)\n",
    "\n",
    "assert aranet_mean_temp(filename) == 17.75, \"The mean temperature should be 17.75\""
   ]
  },
  {
   "attachments": {},
   "cell_type": "markdown",
   "metadata": {},
   "source": [
    "Just for fun, here's how to do the above challenge using pandas:"
   ]
  },
  {
   "cell_type": "code",
   "execution_count": 11,
   "metadata": {},
   "outputs": [
    {
     "name": "stdout",
     "output_type": "stream",
     "text": [
      "Mean temperature: 17.75\n"
     ]
    }
   ],
   "source": [
    "import pandas as pd\n",
    "aranet_df = pd.read_csv(filename)\n",
    "print(f\"Mean temperature: {aranet_df['Temperature(°C)'].mean():.2f}\")"
   ]
  },
  {
   "cell_type": "code",
   "execution_count": 12,
   "metadata": {},
   "outputs": [],
   "source": [
    "df1 = pd.DataFrame({'a': [1, 2, 3], 'b': [4, 5, 6]})\n",
    "\n"
   ]
  },
  {
   "cell_type": "code",
   "execution_count": 13,
   "metadata": {},
   "outputs": [
    {
     "data": {
      "text/html": [
       "<div>\n",
       "<style scoped>\n",
       "    .dataframe tbody tr th:only-of-type {\n",
       "        vertical-align: middle;\n",
       "    }\n",
       "\n",
       "    .dataframe tbody tr th {\n",
       "        vertical-align: top;\n",
       "    }\n",
       "\n",
       "    .dataframe thead th {\n",
       "        text-align: right;\n",
       "    }\n",
       "</style>\n",
       "<table border=\"1\" class=\"dataframe\">\n",
       "  <thead>\n",
       "    <tr style=\"text-align: right;\">\n",
       "      <th></th>\n",
       "      <th>Carbon dioxide(ppm)</th>\n",
       "      <th>Temperature(°C)</th>\n",
       "      <th>Relative humidity(%)</th>\n",
       "      <th>Atmospheric pressure(hPa)</th>\n",
       "    </tr>\n",
       "  </thead>\n",
       "  <tbody>\n",
       "    <tr>\n",
       "      <th>count</th>\n",
       "      <td>5773.000000</td>\n",
       "      <td>5773.000000</td>\n",
       "      <td>5773.000000</td>\n",
       "      <td>5773.000000</td>\n",
       "    </tr>\n",
       "    <tr>\n",
       "      <th>mean</th>\n",
       "      <td>630.763381</td>\n",
       "      <td>17.754062</td>\n",
       "      <td>24.391478</td>\n",
       "      <td>1000.933830</td>\n",
       "    </tr>\n",
       "    <tr>\n",
       "      <th>std</th>\n",
       "      <td>176.137812</td>\n",
       "      <td>1.803766</td>\n",
       "      <td>3.507078</td>\n",
       "      <td>9.760638</td>\n",
       "    </tr>\n",
       "    <tr>\n",
       "      <th>min</th>\n",
       "      <td>441.000000</td>\n",
       "      <td>7.300000</td>\n",
       "      <td>15.000000</td>\n",
       "      <td>983.000000</td>\n",
       "    </tr>\n",
       "    <tr>\n",
       "      <th>25%</th>\n",
       "      <td>510.000000</td>\n",
       "      <td>16.700000</td>\n",
       "      <td>22.000000</td>\n",
       "      <td>992.000000</td>\n",
       "    </tr>\n",
       "    <tr>\n",
       "      <th>50%</th>\n",
       "      <td>611.000000</td>\n",
       "      <td>18.300000</td>\n",
       "      <td>24.000000</td>\n",
       "      <td>1002.000000</td>\n",
       "    </tr>\n",
       "    <tr>\n",
       "      <th>75%</th>\n",
       "      <td>684.000000</td>\n",
       "      <td>18.800000</td>\n",
       "      <td>26.000000</td>\n",
       "      <td>1009.000000</td>\n",
       "    </tr>\n",
       "    <tr>\n",
       "      <th>max</th>\n",
       "      <td>2263.000000</td>\n",
       "      <td>22.200000</td>\n",
       "      <td>52.000000</td>\n",
       "      <td>1017.000000</td>\n",
       "    </tr>\n",
       "  </tbody>\n",
       "</table>\n",
       "</div>"
      ],
      "text/plain": [
       "       Carbon dioxide(ppm)  Temperature(°C)  Relative humidity(%)  \\\n",
       "count          5773.000000      5773.000000           5773.000000   \n",
       "mean            630.763381        17.754062             24.391478   \n",
       "std             176.137812         1.803766              3.507078   \n",
       "min             441.000000         7.300000             15.000000   \n",
       "25%             510.000000        16.700000             22.000000   \n",
       "50%             611.000000        18.300000             24.000000   \n",
       "75%             684.000000        18.800000             26.000000   \n",
       "max            2263.000000        22.200000             52.000000   \n",
       "\n",
       "       Atmospheric pressure(hPa)  \n",
       "count                5773.000000  \n",
       "mean                 1000.933830  \n",
       "std                     9.760638  \n",
       "min                   983.000000  \n",
       "25%                   992.000000  \n",
       "50%                  1002.000000  \n",
       "75%                  1009.000000  \n",
       "max                  1017.000000  "
      ]
     },
     "execution_count": 13,
     "metadata": {},
     "output_type": "execute_result"
    }
   ],
   "source": [
    "aranet_df.describe()"
   ]
  },
  {
   "cell_type": "code",
   "execution_count": 14,
   "metadata": {},
   "outputs": [
    {
     "data": {
      "text/html": [
       "<div>\n",
       "<style scoped>\n",
       "    .dataframe tbody tr th:only-of-type {\n",
       "        vertical-align: middle;\n",
       "    }\n",
       "\n",
       "    .dataframe tbody tr th {\n",
       "        vertical-align: top;\n",
       "    }\n",
       "\n",
       "    .dataframe thead th {\n",
       "        text-align: right;\n",
       "    }\n",
       "</style>\n",
       "<table border=\"1\" class=\"dataframe\">\n",
       "  <thead>\n",
       "    <tr style=\"text-align: right;\">\n",
       "      <th></th>\n",
       "      <th>a</th>\n",
       "      <th>b</th>\n",
       "    </tr>\n",
       "  </thead>\n",
       "  <tbody>\n",
       "    <tr>\n",
       "      <th>count</th>\n",
       "      <td>3.0</td>\n",
       "      <td>3.0</td>\n",
       "    </tr>\n",
       "    <tr>\n",
       "      <th>mean</th>\n",
       "      <td>2.0</td>\n",
       "      <td>5.0</td>\n",
       "    </tr>\n",
       "    <tr>\n",
       "      <th>std</th>\n",
       "      <td>1.0</td>\n",
       "      <td>1.0</td>\n",
       "    </tr>\n",
       "    <tr>\n",
       "      <th>min</th>\n",
       "      <td>1.0</td>\n",
       "      <td>4.0</td>\n",
       "    </tr>\n",
       "    <tr>\n",
       "      <th>25%</th>\n",
       "      <td>1.5</td>\n",
       "      <td>4.5</td>\n",
       "    </tr>\n",
       "    <tr>\n",
       "      <th>50%</th>\n",
       "      <td>2.0</td>\n",
       "      <td>5.0</td>\n",
       "    </tr>\n",
       "    <tr>\n",
       "      <th>75%</th>\n",
       "      <td>2.5</td>\n",
       "      <td>5.5</td>\n",
       "    </tr>\n",
       "    <tr>\n",
       "      <th>max</th>\n",
       "      <td>3.0</td>\n",
       "      <td>6.0</td>\n",
       "    </tr>\n",
       "  </tbody>\n",
       "</table>\n",
       "</div>"
      ],
      "text/plain": [
       "         a    b\n",
       "count  3.0  3.0\n",
       "mean   2.0  5.0\n",
       "std    1.0  1.0\n",
       "min    1.0  4.0\n",
       "25%    1.5  4.5\n",
       "50%    2.0  5.0\n",
       "75%    2.5  5.5\n",
       "max    3.0  6.0"
      ]
     },
     "execution_count": 14,
     "metadata": {},
     "output_type": "execute_result"
    }
   ],
   "source": [
    "df1.describe()"
   ]
  },
  {
   "cell_type": "markdown",
   "metadata": {},
   "source": [
    "After we review these challenges, we'll take a look at some basic pandas DataFrame functionality.\n"
   ]
  },
  {
   "attachments": {},
   "cell_type": "markdown",
   "metadata": {},
   "source": [
    "## END OF NOTEBOOK\n",
    "Remember to submit this notebook to Canvas in both HTML and IPYNB formats.  Note: if you have difficulty exporting to HTML, just submit the IPYNB file and make sure you reach out to the teaching team to get help.  You will only receive partial credit if you do not submit both formats (HTML and IPYNB) by the due date (see Canvas for due date)."
   ]
  },
  {
   "cell_type": "markdown",
   "metadata": {},
   "source": []
  }
 ],
 "metadata": {
  "kernelspec": {
   "display_name": ".venv",
   "language": "python",
   "name": "python3"
  },
  "language_info": {
   "codemirror_mode": {
    "name": "ipython",
    "version": 3
   },
   "file_extension": ".py",
   "mimetype": "text/x-python",
   "name": "python",
   "nbconvert_exporter": "python",
   "pygments_lexer": "ipython3",
   "version": "3.11.3"
  },
  "orig_nbformat": 4,
  "vscode": {
   "interpreter": {
    "hash": "90fd63f6819c340b438e5c293ddfb31e39be622c688d56bb62c76ae0c0566a54"
   }
  }
 },
 "nbformat": 4,
 "nbformat_minor": 2
}
